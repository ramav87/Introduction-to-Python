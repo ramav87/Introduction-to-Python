{
 "cells": [
  {
   "cell_type": "markdown",
   "id": "bb73240e",
   "metadata": {},
   "source": [
    "# Python consolidation exercises\n",
    "\n",
    "Here we will do some exercises to consolodate what we have learned in the summer course to date...\n",
    "\n",
    "\n",
    "We will review:\n",
    "- variables\n",
    "- functions\n",
    "- lists\n",
    "- dictionaries\n",
    "- file IO\n",
    "- list comprehension"
   ]
  },
  {
   "cell_type": "markdown",
   "id": "0c57b47f",
   "metadata": {},
   "source": [
    "# Variables and functions\n",
    "\n",
    "### Exercise 1\n",
    "\n",
    "Task: Write a function mass_to_weight that converts mass (in kilograms) to weight (in Newtons) on different planets. Use the following gravitational accelerations: Earth = 9.81 m/s², Mars = 3.71 m/s², Jupiter = 24.79 m/s²."
   ]
  },
  {
   "cell_type": "code",
   "execution_count": null,
   "id": "8a05cb8d",
   "metadata": {},
   "outputs": [],
   "source": [
    "#your code goes here. Remember, F = mg!"
   ]
  },
  {
   "cell_type": "markdown",
   "id": "56b9c682",
   "metadata": {},
   "source": [
    "### Exercise 2\n",
    "\n",
    "Write a function that, given a list of numbers, returns odd numbers if the sum of the list of numbers is greater than 30, and even numbers if the sum of the list of numbers is less than 30.\n"
   ]
  },
  {
   "cell_type": "code",
   "execution_count": null,
   "id": "4c2b0452",
   "metadata": {},
   "outputs": [],
   "source": [
    "# remember, for you can use the mod symbol (%) to find the remainder after division , e.g. 5%2 = 1. "
   ]
  },
  {
   "cell_type": "markdown",
   "id": "e69a5ae0",
   "metadata": {},
   "source": [
    "### Exercise 3\n",
    "\n",
    "Write a function that accepts a string, and returns the middle character of the string. If there is no 'middle' (because of an even number of characters), you can return either character to the left or right. "
   ]
  },
  {
   "cell_type": "code",
   "execution_count": null,
   "id": "e2c77842",
   "metadata": {},
   "outputs": [],
   "source": []
  },
  {
   "cell_type": "markdown",
   "id": "5dedd5b7",
   "metadata": {},
   "source": [
    "### Exercise 4 \n",
    "\n",
    "Write a function that takes as input, two lists of numbers. The lists should be the same size. The function should return the dot product of the two lists. Recall that the dot product of two vectors A = [A1,A2,A3] and B = [B1,B2,B3] is A1B1 + A2B2 + A3B3.\n"
   ]
  },
  {
   "cell_type": "markdown",
   "id": "d4769d15",
   "metadata": {},
   "source": [
    "# Lists and List Comprehension"
   ]
  },
  {
   "cell_type": "markdown",
   "id": "5b2ec15e",
   "metadata": {},
   "source": [
    "### Exercise 1\n",
    "\n",
    "Form a list, call it my_list, that is the square of the numbers 1 to 10. You can use the command range(1,11) to generate the initial numbers."
   ]
  },
  {
   "cell_type": "code",
   "execution_count": 2,
   "id": "b3230f54",
   "metadata": {},
   "outputs": [],
   "source": []
  },
  {
   "cell_type": "markdown",
   "id": "f99b2de5",
   "metadata": {},
   "source": [
    "### Exercise 2\n",
    "\n",
    "Create a list of tuples ('name', age) from the list below, but only if the age is greater than or equal to 18."
   ]
  },
  {
   "cell_type": "code",
   "execution_count": 11,
   "id": "834a75b1",
   "metadata": {},
   "outputs": [],
   "source": [
    "list_of_names_and_ages = [('Mark', 20), ('Angela', 25), ('Juan', 12), ('Rama', 65), \n",
    "                          ('Zijie', 21), ('Maria', 17), ('Shelcin', 16), ('Sita', 23)]\n",
    "\n",
    "#new_list = [#your code goes here]\n",
    "    "
   ]
  },
  {
   "cell_type": "markdown",
   "id": "a8442b69",
   "metadata": {},
   "source": [
    "### Exercise 3\n",
    "Create a list of files in a folder on your directory, that end in a particular extension. \n",
    "You can use the function os.listdir() to return a list of files in a given folder"
   ]
  },
  {
   "cell_type": "code",
   "execution_count": 12,
   "id": "667cad1b",
   "metadata": {},
   "outputs": [
    {
     "data": {
      "text/plain": [
       "['Consolidation Exercises.ipynb',\n",
       " '02_numpy.ipynb',\n",
       " '01_5_Python.ipynb',\n",
       " '.ipynb_checkpoints']"
      ]
     },
     "execution_count": 12,
     "metadata": {},
     "output_type": "execute_result"
    }
   ],
   "source": [
    "import os\n",
    "os.listdir() #Provide a folder in the arguments to this function to return a list of files in that folder\n",
    "\n",
    "#generate a list of files in that folder that have a specific extension\n",
    "#files_with_specific_extension = [#your code goes here]"
   ]
  },
  {
   "cell_type": "markdown",
   "id": "3933eec5",
   "metadata": {},
   "source": [
    "# Dictionaries\n",
    "\n",
    "### Exercise 1\n",
    "\n",
    "Create a dictionary which has as keys 'user proposal number', 'PI' and 'days_used', and corresponding values for these (they can be anything). See if you can provide multiple values for days_used, by using a list instead of a single number. After creating your dictionary, read out the entries one by one use the .keys() method (see below)"
   ]
  },
  {
   "cell_type": "code",
   "execution_count": 28,
   "id": "5feb4391",
   "metadata": {},
   "outputs": [
    {
     "data": {
      "text/plain": [
       "dict_keys(['name', 'user proposal number'])"
      ]
     },
     "execution_count": 28,
     "metadata": {},
     "output_type": "execute_result"
    }
   ],
   "source": [
    "my_dictionary ={'name':'Robert', 'user proposal number': '2024b_105'} #example dictionary\n",
    "my_dictionary.keys()\n",
    "\n",
    "#create your dictionary here\n",
    "\n",
    "#your code goes here"
   ]
  },
  {
   "cell_type": "code",
   "execution_count": 26,
   "id": "b058ee02",
   "metadata": {},
   "outputs": [],
   "source": [
    "#Read out the key, value pairs. \n",
    "#your code goes here"
   ]
  },
  {
   "cell_type": "markdown",
   "id": "94a72405",
   "metadata": {},
   "source": [
    "### Exercise 2\n",
    "\n",
    "Create a dictionary planet_diameters with planet names as keys and their diameters (in kilometers) as values. Write a function average_diameter that calculates and returns the average diameter. Note:\n",
    "\n",
    "Mercury: 4879\n",
    "\n",
    "Venus: 12104\n",
    "\n",
    "Earth: 12742\n",
    "\n",
    "Mars: 6779\n",
    "\n",
    "Jupiter: 139820\n",
    "\n",
    "Saturn: 116460\n",
    "\n",
    "Uranus: 50724\n",
    "\n",
    "Neptune: 49244"
   ]
  },
  {
   "cell_type": "code",
   "execution_count": 30,
   "id": "6cedcfe4",
   "metadata": {},
   "outputs": [],
   "source": [
    "#your code goes here\n"
   ]
  },
  {
   "cell_type": "markdown",
   "id": "3bce1db5",
   "metadata": {},
   "source": [
    "# Exercise 3\n",
    "\n",
    "Write a list comprehension that generates a list of distances (in AU) from the Sun for the planets in the solar system, given their average distances in kilometers. This one is a little bit harder."
   ]
  },
  {
   "cell_type": "code",
   "execution_count": 39,
   "id": "a4ca40f0",
   "metadata": {},
   "outputs": [
    {
     "name": "stdout",
     "output_type": "stream",
     "text": [
      "('Mercury', 57900000)\n",
      "('Venus', 108200000)\n",
      "('Earth', 149600000)\n",
      "('Mars', 227900000)\n",
      "('Jupiter', 778300000)\n",
      "('Saturn', 1427000000)\n",
      "('Uranus', 2871000000)\n",
      "('Neptune', 4495000000)\n"
     ]
    }
   ],
   "source": [
    "planet_distances_km = {\n",
    "    \"Mercury\": 57900000,\n",
    "    \"Venus\": 108200000,\n",
    "    \"Earth\": 149600000,\n",
    "    \"Mars\": 227900000,\n",
    "    \"Jupiter\": 778300000,\n",
    "    \"Saturn\": 1427000000,\n",
    "    \"Uranus\": 2871000000,\n",
    "    \"Neptune\": 4495000000\n",
    "}\n",
    "\n",
    "distance_au = 149597870.7 \n",
    "\n",
    "#generate a dictionary using list comprehension. To iterate through a dictionary, use the .items() method, i.e.:\n",
    "for item in planet_distances_km.items():\n",
    "    print(item)\n",
    "    \n",
    "#Note that List comprehension syntax works in dictionaries as well\n",
    "my_dictionary = {'name':age for (name,age) in {'Mark':10, 'Melissa':20, 'Kevin':30}.items()}\n",
    "\n",
    "#your code goes here"
   ]
  },
  {
   "cell_type": "markdown",
   "id": "7bc08e15",
   "metadata": {},
   "source": [
    "# File I/O\n",
    "\n",
    "### Exercise 1\n",
    "\n",
    "Create a file from a list of numbers [1,10,150,160]. The file should look like this:\n",
    "\n",
    "1\n",
    "\n",
    "10\n",
    "\n",
    "150\n",
    "\n",
    "160\n"
   ]
  },
  {
   "cell_type": "code",
   "execution_count": null,
   "id": "d4122840",
   "metadata": {},
   "outputs": [],
   "source": []
  },
  {
   "cell_type": "markdown",
   "id": "278e6562",
   "metadata": {},
   "source": [
    "### Exercise 2\n",
    "\n",
    "Read the file you created above, and return the values in a list"
   ]
  },
  {
   "cell_type": "code",
   "execution_count": null,
   "id": "62e0315e",
   "metadata": {},
   "outputs": [],
   "source": []
  },
  {
   "cell_type": "markdown",
   "id": "dd336da4",
   "metadata": {},
   "source": [
    "### Exercise 3\n",
    "\n",
    "Make a new file (you can do this outside of python) which has some text lines and then some numerical values\n",
    "Using any method you like, return a list of the numbered portions in a list, and the text portion in another list."
   ]
  },
  {
   "cell_type": "code",
   "execution_count": null,
   "id": "9e485967",
   "metadata": {},
   "outputs": [],
   "source": []
  }
 ],
 "metadata": {
  "kernelspec": {
   "display_name": "Python 3 (ipykernel)",
   "language": "python",
   "name": "python3"
  },
  "language_info": {
   "codemirror_mode": {
    "name": "ipython",
    "version": 3
   },
   "file_extension": ".py",
   "mimetype": "text/x-python",
   "name": "python",
   "nbconvert_exporter": "python",
   "pygments_lexer": "ipython3",
   "version": "3.11.4"
  }
 },
 "nbformat": 4,
 "nbformat_minor": 5
}
