{
 "cells": [
  {
   "cell_type": "markdown",
   "metadata": {},
   "source": [
    "# Introduction to NumPy\n",
    "\n",
    "**Stefan Van Der Walt and Suhas Somnath and Rama Vasudevan**\n",
    "\n",
    "## What do I use NumPy for?\n",
    "  1. An array object of arbitrary homogeneous items\n",
    "  2. Fast mathematical operations over arrays\n",
    "  3. Linear Algebra, Fourier Transforms, Random Number Generation"
   ]
  },
  {
   "cell_type": "code",
   "execution_count": null,
   "metadata": {},
   "outputs": [],
   "source": [
    "%matplotlib notebook"
   ]
  },
  {
   "cell_type": "code",
   "execution_count": 2,
   "metadata": {},
   "outputs": [
    {
     "data": {
      "text/plain": [
       "'1.24.4'"
      ]
     },
     "execution_count": 2,
     "metadata": {},
     "output_type": "execute_result"
    }
   ],
   "source": [
    "import numpy as np\n",
    "import matplotlib.pyplot as plt\n",
    "np.__version__"
   ]
  },
  {
   "cell_type": "markdown",
   "metadata": {},
   "source": [
    "## Where to get help?\n",
    "\n",
    "- http://docs.scipy.org\n",
    "- Forums: mailing list, http://stackoverflow.com\n",
    "\n",
    "## Where do I learn more?\n",
    "\n",
    "- <a href=\"http://mentat.za.net/numpy/intro/intro.html\">NumPy introductory tutorial</a>\n",
    "- <a href=\"http://scipy-lectures.github.com\">SciPy Lectures</a>"
   ]
  },
  {
   "cell_type": "markdown",
   "metadata": {},
   "source": [
    "## The structure of a NumPy array\n",
    "Contiguous sequence of data"
   ]
  },
  {
   "cell_type": "markdown",
   "metadata": {},
   "source": [
    "\n",
    "## Creating arrays\n",
    "### 1D arrays"
   ]
  },
  {
   "cell_type": "code",
   "execution_count": 3,
   "metadata": {},
   "outputs": [
    {
     "data": {
      "text/plain": [
       "array([0, 1, 2, 3, 4])"
      ]
     },
     "execution_count": 3,
     "metadata": {},
     "output_type": "execute_result"
    }
   ],
   "source": [
    "np.arange(5)"
   ]
  },
  {
   "cell_type": "code",
   "execution_count": 4,
   "metadata": {},
   "outputs": [
    {
     "data": {
      "text/plain": [
       "array([2, 4, 6])"
      ]
     },
     "execution_count": 4,
     "metadata": {},
     "output_type": "execute_result"
    }
   ],
   "source": [
    "# start, stop, step\n",
    "np.arange(2, 8, 2)"
   ]
  },
  {
   "cell_type": "code",
   "execution_count": 5,
   "metadata": {},
   "outputs": [
    {
     "data": {
      "text/plain": [
       "array([0. , 0.1, 0.2, 0.3, 0.4, 0.5, 0.6, 0.7, 0.8, 0.9, 1. ])"
      ]
     },
     "execution_count": 5,
     "metadata": {},
     "output_type": "execute_result"
    }
   ],
   "source": [
    "np.linspace(0, 1, num=11)"
   ]
  },
  {
   "cell_type": "markdown",
   "metadata": {},
   "source": [
    "## Exercises\n",
    "\n",
    "1. Make a function that takes as input a starting number, and returns a numpy array of size 10 of all the odd numbers starting from that number onwards. E.g., if the input to the function is 6, then it should return 7,9,11,.... \n",
    "\n",
    "2. Create a vector equally spaced between -10 and 10, with 101 elements.\n",
    "\n",
    "3. Make an array of even numbers from 0 to 100. Iterate through each element in a for loop. Every time the element is divisible by 10, print out the number.\n"
   ]
  },
  {
   "cell_type": "markdown",
   "metadata": {},
   "source": [
    "### Multidimensional datasets"
   ]
  },
  {
   "cell_type": "code",
   "execution_count": 8,
   "metadata": {},
   "outputs": [
    {
     "data": {
      "text/plain": [
       "array([[0.58348658, 0.09850991, 0.34432416, 0.14160972],\n",
       "       [0.84612918, 0.71260039, 0.96035732, 0.37188833],\n",
       "       [0.24132763, 0.04732764, 0.93665   , 0.12082812]])"
      ]
     },
     "execution_count": 8,
     "metadata": {},
     "output_type": "execute_result"
    }
   ],
   "source": [
    "np.random.rand(3, 4)"
   ]
  },
  {
   "cell_type": "code",
   "execution_count": 9,
   "metadata": {},
   "outputs": [
    {
     "data": {
      "text/plain": [
       "array([[0., 0., 0.],\n",
       "       [0., 0., 0.],\n",
       "       [0., 0., 0.]])"
      ]
     },
     "execution_count": 9,
     "metadata": {},
     "output_type": "execute_result"
    }
   ],
   "source": [
    "np.zeros((3,3))"
   ]
  },
  {
   "cell_type": "code",
   "execution_count": 10,
   "metadata": {},
   "outputs": [
    {
     "data": {
      "text/plain": [
       "array([[1., 1., 1., 1., 1.],\n",
       "       [1., 1., 1., 1., 1.]])"
      ]
     },
     "execution_count": 10,
     "metadata": {},
     "output_type": "execute_result"
    }
   ],
   "source": [
    "np.ones((2, 5))"
   ]
  },
  {
   "cell_type": "code",
   "execution_count": 11,
   "metadata": {},
   "outputs": [
    {
     "data": {
      "text/plain": [
       "array([[ 1,  0,  0],\n",
       "       [ 0, -2,  0],\n",
       "       [ 0,  0,  3]])"
      ]
     },
     "execution_count": 11,
     "metadata": {},
     "output_type": "execute_result"
    }
   ],
   "source": [
    "np.diag([1, -2, 3])"
   ]
  },
  {
   "cell_type": "code",
   "execution_count": 12,
   "metadata": {},
   "outputs": [
    {
     "data": {
      "text/plain": [
       "array([[1, 4],\n",
       "       [2, 8]], dtype=uint8)"
      ]
     },
     "execution_count": 12,
     "metadata": {},
     "output_type": "execute_result"
    }
   ],
   "source": [
    "np.array([[1, 4], [2, 8]], dtype=np.uint8)"
   ]
  },
  {
   "cell_type": "code",
   "execution_count": 18,
   "metadata": {},
   "outputs": [
    {
     "name": "stdout",
     "output_type": "stream",
     "text": [
      "[0 1 2 3 4 5 6 7 8 9] [0 1 2 3 4 5 6 7 8 9]\n"
     ]
    }
   ],
   "source": [
    "#get indices for diagonal\n",
    "rows_diag, cols_diag = np.diag_indices(10)\n",
    "\n",
    "print(rows_diag, cols_diag)"
   ]
  },
  {
   "cell_type": "markdown",
   "metadata": {},
   "source": [
    "### Exercises\n",
    "\n",
    "1. Make an array of zeros of shape (128,128). Hint: np.zeros(). \n",
    "\n",
    "\n",
    "2. Make a multidimensional array, called my_md_array, of shape (5,5) populated with random numbers drawn from a uniform distribution from (0,1). Note that you can use the function np.random.uniform(). Then change the diagonal of the matrix to be [1,2,3,4,5]. "
   ]
  },
  {
   "cell_type": "markdown",
   "metadata": {},
   "source": [
    "## Properties"
   ]
  },
  {
   "cell_type": "code",
   "execution_count": 19,
   "metadata": {},
   "outputs": [
    {
     "data": {
      "text/plain": [
       "(3, 5)"
      ]
     },
     "execution_count": 19,
     "metadata": {},
     "output_type": "execute_result"
    }
   ],
   "source": [
    "x = np.random.rand(3, 5)\n",
    "x.shape"
   ]
  },
  {
   "cell_type": "code",
   "execution_count": 20,
   "metadata": {},
   "outputs": [
    {
     "data": {
      "text/plain": [
       "15"
      ]
     },
     "execution_count": 20,
     "metadata": {},
     "output_type": "execute_result"
    }
   ],
   "source": [
    "x.size"
   ]
  },
  {
   "cell_type": "code",
   "execution_count": 21,
   "metadata": {},
   "outputs": [
    {
     "data": {
      "text/plain": [
       "dtype('float64')"
      ]
     },
     "execution_count": 21,
     "metadata": {},
     "output_type": "execute_result"
    }
   ],
   "source": [
    "x.dtype"
   ]
  },
  {
   "cell_type": "code",
   "execution_count": 28,
   "metadata": {},
   "outputs": [],
   "source": [
    "#making integer arrays\n",
    "\n",
    "y1 = np.random.randint(0,10,size=(4,5)) #random integer array\n",
    "y2 = np.zeros((4,5), dtype = np.int32)"
   ]
  },
  {
   "cell_type": "code",
   "execution_count": 30,
   "metadata": {},
   "outputs": [
    {
     "data": {
      "text/plain": [
       "(dtype('int64'), dtype('int32'))"
      ]
     },
     "execution_count": 30,
     "metadata": {},
     "output_type": "execute_result"
    }
   ],
   "source": [
    "y1.dtype, y2.dtype, y2."
   ]
  },
  {
   "cell_type": "markdown",
   "metadata": {},
   "source": [
    "## Editing / Populating"
   ]
  },
  {
   "cell_type": "code",
   "execution_count": 34,
   "metadata": {},
   "outputs": [
    {
     "name": "stdout",
     "output_type": "stream",
     "text": [
      "[0 1 2 3 4]\n",
      "afer modification:\n",
      "[   0 -700    2    3    4]\n"
     ]
    }
   ],
   "source": [
    "x = np.arange(5)\n",
    "print(x)\n",
    "x[1] = -700\n",
    "print('afer modification:')\n",
    "print(x)"
   ]
  },
  {
   "cell_type": "markdown",
   "metadata": {},
   "source": [
    "## Reshaping"
   ]
  },
  {
   "cell_type": "code",
   "execution_count": 31,
   "metadata": {},
   "outputs": [
    {
     "data": {
      "text/plain": [
       "array([[3, 3, 5],\n",
       "       [6, 4, 3]])"
      ]
     },
     "execution_count": 31,
     "metadata": {},
     "output_type": "execute_result"
    }
   ],
   "source": [
    "x = np.random.randint(0, high=10, size=(2,3))\n",
    "x"
   ]
  },
  {
   "cell_type": "markdown",
   "metadata": {},
   "source": [
    "### Transpose"
   ]
  },
  {
   "cell_type": "code",
   "execution_count": 32,
   "metadata": {},
   "outputs": [
    {
     "data": {
      "text/plain": [
       "array([[3, 6],\n",
       "       [3, 4],\n",
       "       [5, 3]])"
      ]
     },
     "execution_count": 32,
     "metadata": {},
     "output_type": "execute_result"
    }
   ],
   "source": [
    "x.T"
   ]
  },
  {
   "cell_type": "markdown",
   "metadata": {},
   "source": [
    "### Reshape"
   ]
  },
  {
   "cell_type": "code",
   "execution_count": 37,
   "metadata": {},
   "outputs": [
    {
     "name": "stdout",
     "output_type": "stream",
     "text": [
      "\n",
      "----C Style---\n",
      "[[3]\n",
      " [3]\n",
      " [5]\n",
      " [6]\n",
      " [4]\n",
      " [3]]\n",
      "\n",
      "----Fortran Style---\n",
      "[[3]\n",
      " [6]\n",
      " [3]\n",
      " [4]\n",
      " [5]\n",
      " [3]]\n"
     ]
    }
   ],
   "source": [
    "y1 = np.reshape(x,(6,1), order = 'C') #default is C-type ordering\n",
    "y2 = np.reshape(x,(6,1), order = 'F') #you can choose Fortran-style ordering also\n",
    "\n",
    "print('\\n----C Style---')\n",
    "print(y1)\n",
    "print('\\n----Fortran Style---')\n",
    "print(y2)"
   ]
  },
  {
   "cell_type": "markdown",
   "metadata": {},
   "source": [
    "## Operations"
   ]
  },
  {
   "cell_type": "code",
   "execution_count": 38,
   "metadata": {},
   "outputs": [
    {
     "name": "stdout",
     "output_type": "stream",
     "text": [
      "x: [0 1 2 3 4]\n",
      "y: [4 8 9 5 8]\n"
     ]
    },
    {
     "data": {
      "text/plain": [
       "array([ 4,  9, 11,  8, 12])"
      ]
     },
     "execution_count": 38,
     "metadata": {},
     "output_type": "execute_result"
    }
   ],
   "source": [
    "#addition\n",
    "x = np.arange(5)\n",
    "y = np.random.randint(0, high=10, size=5)\n",
    "print('x:', x)\n",
    "print('y:', y)\n",
    "x + y"
   ]
  },
  {
   "cell_type": "code",
   "execution_count": 39,
   "metadata": {},
   "outputs": [
    {
     "name": "stdout",
     "output_type": "stream",
     "text": [
      "[0 1 2 3 4] [3 4 5 6 7]\n"
     ]
    }
   ],
   "source": [
    "#addition of scalar to vector\n",
    "\n",
    "x = np.arange(5)\n",
    "y = x+3\n",
    "print(x,y)"
   ]
  },
  {
   "cell_type": "code",
   "execution_count": 43,
   "metadata": {},
   "outputs": [
    {
     "name": "stdout",
     "output_type": "stream",
     "text": [
      "[0 1 2 3 4] [8 3 6 1 2] 26\n"
     ]
    }
   ],
   "source": [
    "#dot product\n",
    "\n",
    "x = np.arange(5)\n",
    "y = np.random.randint(0,10,5)\n",
    "\n",
    "print(x,y,np.dot(x,y))"
   ]
  },
  {
   "cell_type": "code",
   "execution_count": 48,
   "metadata": {},
   "outputs": [
    {
     "data": {
      "application/javascript": [
       "/* Put everything inside the global mpl namespace */\n",
       "/* global mpl */\n",
       "window.mpl = {};\n",
       "\n",
       "mpl.get_websocket_type = function () {\n",
       "    if (typeof WebSocket !== 'undefined') {\n",
       "        return WebSocket;\n",
       "    } else if (typeof MozWebSocket !== 'undefined') {\n",
       "        return MozWebSocket;\n",
       "    } else {\n",
       "        alert(\n",
       "            'Your browser does not have WebSocket support. ' +\n",
       "                'Please try Chrome, Safari or Firefox ≥ 6. ' +\n",
       "                'Firefox 4 and 5 are also supported but you ' +\n",
       "                'have to enable WebSockets in about:config.'\n",
       "        );\n",
       "    }\n",
       "};\n",
       "\n",
       "mpl.figure = function (figure_id, websocket, ondownload, parent_element) {\n",
       "    this.id = figure_id;\n",
       "\n",
       "    this.ws = websocket;\n",
       "\n",
       "    this.supports_binary = this.ws.binaryType !== undefined;\n",
       "\n",
       "    if (!this.supports_binary) {\n",
       "        var warnings = document.getElementById('mpl-warnings');\n",
       "        if (warnings) {\n",
       "            warnings.style.display = 'block';\n",
       "            warnings.textContent =\n",
       "                'This browser does not support binary websocket messages. ' +\n",
       "                'Performance may be slow.';\n",
       "        }\n",
       "    }\n",
       "\n",
       "    this.imageObj = new Image();\n",
       "\n",
       "    this.context = undefined;\n",
       "    this.message = undefined;\n",
       "    this.canvas = undefined;\n",
       "    this.rubberband_canvas = undefined;\n",
       "    this.rubberband_context = undefined;\n",
       "    this.format_dropdown = undefined;\n",
       "\n",
       "    this.image_mode = 'full';\n",
       "\n",
       "    this.root = document.createElement('div');\n",
       "    this.root.setAttribute('style', 'display: inline-block');\n",
       "    this._root_extra_style(this.root);\n",
       "\n",
       "    parent_element.appendChild(this.root);\n",
       "\n",
       "    this._init_header(this);\n",
       "    this._init_canvas(this);\n",
       "    this._init_toolbar(this);\n",
       "\n",
       "    var fig = this;\n",
       "\n",
       "    this.waiting = false;\n",
       "\n",
       "    this.ws.onopen = function () {\n",
       "        fig.send_message('supports_binary', { value: fig.supports_binary });\n",
       "        fig.send_message('send_image_mode', {});\n",
       "        if (fig.ratio !== 1) {\n",
       "            fig.send_message('set_device_pixel_ratio', {\n",
       "                device_pixel_ratio: fig.ratio,\n",
       "            });\n",
       "        }\n",
       "        fig.send_message('refresh', {});\n",
       "    };\n",
       "\n",
       "    this.imageObj.onload = function () {\n",
       "        if (fig.image_mode === 'full') {\n",
       "            // Full images could contain transparency (where diff images\n",
       "            // almost always do), so we need to clear the canvas so that\n",
       "            // there is no ghosting.\n",
       "            fig.context.clearRect(0, 0, fig.canvas.width, fig.canvas.height);\n",
       "        }\n",
       "        fig.context.drawImage(fig.imageObj, 0, 0);\n",
       "    };\n",
       "\n",
       "    this.imageObj.onunload = function () {\n",
       "        fig.ws.close();\n",
       "    };\n",
       "\n",
       "    this.ws.onmessage = this._make_on_message_function(this);\n",
       "\n",
       "    this.ondownload = ondownload;\n",
       "};\n",
       "\n",
       "mpl.figure.prototype._init_header = function () {\n",
       "    var titlebar = document.createElement('div');\n",
       "    titlebar.classList =\n",
       "        'ui-dialog-titlebar ui-widget-header ui-corner-all ui-helper-clearfix';\n",
       "    var titletext = document.createElement('div');\n",
       "    titletext.classList = 'ui-dialog-title';\n",
       "    titletext.setAttribute(\n",
       "        'style',\n",
       "        'width: 100%; text-align: center; padding: 3px;'\n",
       "    );\n",
       "    titlebar.appendChild(titletext);\n",
       "    this.root.appendChild(titlebar);\n",
       "    this.header = titletext;\n",
       "};\n",
       "\n",
       "mpl.figure.prototype._canvas_extra_style = function (_canvas_div) {};\n",
       "\n",
       "mpl.figure.prototype._root_extra_style = function (_canvas_div) {};\n",
       "\n",
       "mpl.figure.prototype._init_canvas = function () {\n",
       "    var fig = this;\n",
       "\n",
       "    var canvas_div = (this.canvas_div = document.createElement('div'));\n",
       "    canvas_div.setAttribute('tabindex', '0');\n",
       "    canvas_div.setAttribute(\n",
       "        'style',\n",
       "        'border: 1px solid #ddd;' +\n",
       "            'box-sizing: content-box;' +\n",
       "            'clear: both;' +\n",
       "            'min-height: 1px;' +\n",
       "            'min-width: 1px;' +\n",
       "            'outline: 0;' +\n",
       "            'overflow: hidden;' +\n",
       "            'position: relative;' +\n",
       "            'resize: both;' +\n",
       "            'z-index: 2;'\n",
       "    );\n",
       "\n",
       "    function on_keyboard_event_closure(name) {\n",
       "        return function (event) {\n",
       "            return fig.key_event(event, name);\n",
       "        };\n",
       "    }\n",
       "\n",
       "    canvas_div.addEventListener(\n",
       "        'keydown',\n",
       "        on_keyboard_event_closure('key_press')\n",
       "    );\n",
       "    canvas_div.addEventListener(\n",
       "        'keyup',\n",
       "        on_keyboard_event_closure('key_release')\n",
       "    );\n",
       "\n",
       "    this._canvas_extra_style(canvas_div);\n",
       "    this.root.appendChild(canvas_div);\n",
       "\n",
       "    var canvas = (this.canvas = document.createElement('canvas'));\n",
       "    canvas.classList.add('mpl-canvas');\n",
       "    canvas.setAttribute(\n",
       "        'style',\n",
       "        'box-sizing: content-box;' +\n",
       "            'pointer-events: none;' +\n",
       "            'position: relative;' +\n",
       "            'z-index: 0;'\n",
       "    );\n",
       "\n",
       "    this.context = canvas.getContext('2d');\n",
       "\n",
       "    var backingStore =\n",
       "        this.context.backingStorePixelRatio ||\n",
       "        this.context.webkitBackingStorePixelRatio ||\n",
       "        this.context.mozBackingStorePixelRatio ||\n",
       "        this.context.msBackingStorePixelRatio ||\n",
       "        this.context.oBackingStorePixelRatio ||\n",
       "        this.context.backingStorePixelRatio ||\n",
       "        1;\n",
       "\n",
       "    this.ratio = (window.devicePixelRatio || 1) / backingStore;\n",
       "\n",
       "    var rubberband_canvas = (this.rubberband_canvas = document.createElement(\n",
       "        'canvas'\n",
       "    ));\n",
       "    rubberband_canvas.setAttribute(\n",
       "        'style',\n",
       "        'box-sizing: content-box;' +\n",
       "            'left: 0;' +\n",
       "            'pointer-events: none;' +\n",
       "            'position: absolute;' +\n",
       "            'top: 0;' +\n",
       "            'z-index: 1;'\n",
       "    );\n",
       "\n",
       "    // Apply a ponyfill if ResizeObserver is not implemented by browser.\n",
       "    if (this.ResizeObserver === undefined) {\n",
       "        if (window.ResizeObserver !== undefined) {\n",
       "            this.ResizeObserver = window.ResizeObserver;\n",
       "        } else {\n",
       "            var obs = _JSXTOOLS_RESIZE_OBSERVER({});\n",
       "            this.ResizeObserver = obs.ResizeObserver;\n",
       "        }\n",
       "    }\n",
       "\n",
       "    this.resizeObserverInstance = new this.ResizeObserver(function (entries) {\n",
       "        var nentries = entries.length;\n",
       "        for (var i = 0; i < nentries; i++) {\n",
       "            var entry = entries[i];\n",
       "            var width, height;\n",
       "            if (entry.contentBoxSize) {\n",
       "                if (entry.contentBoxSize instanceof Array) {\n",
       "                    // Chrome 84 implements new version of spec.\n",
       "                    width = entry.contentBoxSize[0].inlineSize;\n",
       "                    height = entry.contentBoxSize[0].blockSize;\n",
       "                } else {\n",
       "                    // Firefox implements old version of spec.\n",
       "                    width = entry.contentBoxSize.inlineSize;\n",
       "                    height = entry.contentBoxSize.blockSize;\n",
       "                }\n",
       "            } else {\n",
       "                // Chrome <84 implements even older version of spec.\n",
       "                width = entry.contentRect.width;\n",
       "                height = entry.contentRect.height;\n",
       "            }\n",
       "\n",
       "            // Keep the size of the canvas and rubber band canvas in sync with\n",
       "            // the canvas container.\n",
       "            if (entry.devicePixelContentBoxSize) {\n",
       "                // Chrome 84 implements new version of spec.\n",
       "                canvas.setAttribute(\n",
       "                    'width',\n",
       "                    entry.devicePixelContentBoxSize[0].inlineSize\n",
       "                );\n",
       "                canvas.setAttribute(\n",
       "                    'height',\n",
       "                    entry.devicePixelContentBoxSize[0].blockSize\n",
       "                );\n",
       "            } else {\n",
       "                canvas.setAttribute('width', width * fig.ratio);\n",
       "                canvas.setAttribute('height', height * fig.ratio);\n",
       "            }\n",
       "            /* This rescales the canvas back to display pixels, so that it\n",
       "             * appears correct on HiDPI screens. */\n",
       "            canvas.style.width = width + 'px';\n",
       "            canvas.style.height = height + 'px';\n",
       "\n",
       "            rubberband_canvas.setAttribute('width', width);\n",
       "            rubberband_canvas.setAttribute('height', height);\n",
       "\n",
       "            // And update the size in Python. We ignore the initial 0/0 size\n",
       "            // that occurs as the element is placed into the DOM, which should\n",
       "            // otherwise not happen due to the minimum size styling.\n",
       "            if (fig.ws.readyState == 1 && width != 0 && height != 0) {\n",
       "                fig.request_resize(width, height);\n",
       "            }\n",
       "        }\n",
       "    });\n",
       "    this.resizeObserverInstance.observe(canvas_div);\n",
       "\n",
       "    function on_mouse_event_closure(name) {\n",
       "        /* User Agent sniffing is bad, but WebKit is busted:\n",
       "         * https://bugs.webkit.org/show_bug.cgi?id=144526\n",
       "         * https://bugs.webkit.org/show_bug.cgi?id=181818\n",
       "         * The worst that happens here is that they get an extra browser\n",
       "         * selection when dragging, if this check fails to catch them.\n",
       "         */\n",
       "        var UA = navigator.userAgent;\n",
       "        var isWebKit = /AppleWebKit/.test(UA) && !/Chrome/.test(UA);\n",
       "        if(isWebKit) {\n",
       "            return function (event) {\n",
       "                /* This prevents the web browser from automatically changing to\n",
       "                 * the text insertion cursor when the button is pressed. We\n",
       "                 * want to control all of the cursor setting manually through\n",
       "                 * the 'cursor' event from matplotlib */\n",
       "                event.preventDefault()\n",
       "                return fig.mouse_event(event, name);\n",
       "            };\n",
       "        } else {\n",
       "            return function (event) {\n",
       "                return fig.mouse_event(event, name);\n",
       "            };\n",
       "        }\n",
       "    }\n",
       "\n",
       "    canvas_div.addEventListener(\n",
       "        'mousedown',\n",
       "        on_mouse_event_closure('button_press')\n",
       "    );\n",
       "    canvas_div.addEventListener(\n",
       "        'mouseup',\n",
       "        on_mouse_event_closure('button_release')\n",
       "    );\n",
       "    canvas_div.addEventListener(\n",
       "        'dblclick',\n",
       "        on_mouse_event_closure('dblclick')\n",
       "    );\n",
       "    // Throttle sequential mouse events to 1 every 20ms.\n",
       "    canvas_div.addEventListener(\n",
       "        'mousemove',\n",
       "        on_mouse_event_closure('motion_notify')\n",
       "    );\n",
       "\n",
       "    canvas_div.addEventListener(\n",
       "        'mouseenter',\n",
       "        on_mouse_event_closure('figure_enter')\n",
       "    );\n",
       "    canvas_div.addEventListener(\n",
       "        'mouseleave',\n",
       "        on_mouse_event_closure('figure_leave')\n",
       "    );\n",
       "\n",
       "    canvas_div.addEventListener('wheel', function (event) {\n",
       "        if (event.deltaY < 0) {\n",
       "            event.step = 1;\n",
       "        } else {\n",
       "            event.step = -1;\n",
       "        }\n",
       "        on_mouse_event_closure('scroll')(event);\n",
       "    });\n",
       "\n",
       "    canvas_div.appendChild(canvas);\n",
       "    canvas_div.appendChild(rubberband_canvas);\n",
       "\n",
       "    this.rubberband_context = rubberband_canvas.getContext('2d');\n",
       "    this.rubberband_context.strokeStyle = '#000000';\n",
       "\n",
       "    this._resize_canvas = function (width, height, forward) {\n",
       "        if (forward) {\n",
       "            canvas_div.style.width = width + 'px';\n",
       "            canvas_div.style.height = height + 'px';\n",
       "        }\n",
       "    };\n",
       "\n",
       "    // Disable right mouse context menu.\n",
       "    canvas_div.addEventListener('contextmenu', function (_e) {\n",
       "        event.preventDefault();\n",
       "        return false;\n",
       "    });\n",
       "\n",
       "    function set_focus() {\n",
       "        canvas.focus();\n",
       "        canvas_div.focus();\n",
       "    }\n",
       "\n",
       "    window.setTimeout(set_focus, 100);\n",
       "};\n",
       "\n",
       "mpl.figure.prototype._init_toolbar = function () {\n",
       "    var fig = this;\n",
       "\n",
       "    var toolbar = document.createElement('div');\n",
       "    toolbar.classList = 'mpl-toolbar';\n",
       "    this.root.appendChild(toolbar);\n",
       "\n",
       "    function on_click_closure(name) {\n",
       "        return function (_event) {\n",
       "            return fig.toolbar_button_onclick(name);\n",
       "        };\n",
       "    }\n",
       "\n",
       "    function on_mouseover_closure(tooltip) {\n",
       "        return function (event) {\n",
       "            if (!event.currentTarget.disabled) {\n",
       "                return fig.toolbar_button_onmouseover(tooltip);\n",
       "            }\n",
       "        };\n",
       "    }\n",
       "\n",
       "    fig.buttons = {};\n",
       "    var buttonGroup = document.createElement('div');\n",
       "    buttonGroup.classList = 'mpl-button-group';\n",
       "    for (var toolbar_ind in mpl.toolbar_items) {\n",
       "        var name = mpl.toolbar_items[toolbar_ind][0];\n",
       "        var tooltip = mpl.toolbar_items[toolbar_ind][1];\n",
       "        var image = mpl.toolbar_items[toolbar_ind][2];\n",
       "        var method_name = mpl.toolbar_items[toolbar_ind][3];\n",
       "\n",
       "        if (!name) {\n",
       "            /* Instead of a spacer, we start a new button group. */\n",
       "            if (buttonGroup.hasChildNodes()) {\n",
       "                toolbar.appendChild(buttonGroup);\n",
       "            }\n",
       "            buttonGroup = document.createElement('div');\n",
       "            buttonGroup.classList = 'mpl-button-group';\n",
       "            continue;\n",
       "        }\n",
       "\n",
       "        var button = (fig.buttons[name] = document.createElement('button'));\n",
       "        button.classList = 'mpl-widget';\n",
       "        button.setAttribute('role', 'button');\n",
       "        button.setAttribute('aria-disabled', 'false');\n",
       "        button.addEventListener('click', on_click_closure(method_name));\n",
       "        button.addEventListener('mouseover', on_mouseover_closure(tooltip));\n",
       "\n",
       "        var icon_img = document.createElement('img');\n",
       "        icon_img.src = '_images/' + image + '.png';\n",
       "        icon_img.srcset = '_images/' + image + '_large.png 2x';\n",
       "        icon_img.alt = tooltip;\n",
       "        button.appendChild(icon_img);\n",
       "\n",
       "        buttonGroup.appendChild(button);\n",
       "    }\n",
       "\n",
       "    if (buttonGroup.hasChildNodes()) {\n",
       "        toolbar.appendChild(buttonGroup);\n",
       "    }\n",
       "\n",
       "    var fmt_picker = document.createElement('select');\n",
       "    fmt_picker.classList = 'mpl-widget';\n",
       "    toolbar.appendChild(fmt_picker);\n",
       "    this.format_dropdown = fmt_picker;\n",
       "\n",
       "    for (var ind in mpl.extensions) {\n",
       "        var fmt = mpl.extensions[ind];\n",
       "        var option = document.createElement('option');\n",
       "        option.selected = fmt === mpl.default_extension;\n",
       "        option.innerHTML = fmt;\n",
       "        fmt_picker.appendChild(option);\n",
       "    }\n",
       "\n",
       "    var status_bar = document.createElement('span');\n",
       "    status_bar.classList = 'mpl-message';\n",
       "    toolbar.appendChild(status_bar);\n",
       "    this.message = status_bar;\n",
       "};\n",
       "\n",
       "mpl.figure.prototype.request_resize = function (x_pixels, y_pixels) {\n",
       "    // Request matplotlib to resize the figure. Matplotlib will then trigger a resize in the client,\n",
       "    // which will in turn request a refresh of the image.\n",
       "    this.send_message('resize', { width: x_pixels, height: y_pixels });\n",
       "};\n",
       "\n",
       "mpl.figure.prototype.send_message = function (type, properties) {\n",
       "    properties['type'] = type;\n",
       "    properties['figure_id'] = this.id;\n",
       "    this.ws.send(JSON.stringify(properties));\n",
       "};\n",
       "\n",
       "mpl.figure.prototype.send_draw_message = function () {\n",
       "    if (!this.waiting) {\n",
       "        this.waiting = true;\n",
       "        this.ws.send(JSON.stringify({ type: 'draw', figure_id: this.id }));\n",
       "    }\n",
       "};\n",
       "\n",
       "mpl.figure.prototype.handle_save = function (fig, _msg) {\n",
       "    var format_dropdown = fig.format_dropdown;\n",
       "    var format = format_dropdown.options[format_dropdown.selectedIndex].value;\n",
       "    fig.ondownload(fig, format);\n",
       "};\n",
       "\n",
       "mpl.figure.prototype.handle_resize = function (fig, msg) {\n",
       "    var size = msg['size'];\n",
       "    if (size[0] !== fig.canvas.width || size[1] !== fig.canvas.height) {\n",
       "        fig._resize_canvas(size[0], size[1], msg['forward']);\n",
       "        fig.send_message('refresh', {});\n",
       "    }\n",
       "};\n",
       "\n",
       "mpl.figure.prototype.handle_rubberband = function (fig, msg) {\n",
       "    var x0 = msg['x0'] / fig.ratio;\n",
       "    var y0 = (fig.canvas.height - msg['y0']) / fig.ratio;\n",
       "    var x1 = msg['x1'] / fig.ratio;\n",
       "    var y1 = (fig.canvas.height - msg['y1']) / fig.ratio;\n",
       "    x0 = Math.floor(x0) + 0.5;\n",
       "    y0 = Math.floor(y0) + 0.5;\n",
       "    x1 = Math.floor(x1) + 0.5;\n",
       "    y1 = Math.floor(y1) + 0.5;\n",
       "    var min_x = Math.min(x0, x1);\n",
       "    var min_y = Math.min(y0, y1);\n",
       "    var width = Math.abs(x1 - x0);\n",
       "    var height = Math.abs(y1 - y0);\n",
       "\n",
       "    fig.rubberband_context.clearRect(\n",
       "        0,\n",
       "        0,\n",
       "        fig.canvas.width / fig.ratio,\n",
       "        fig.canvas.height / fig.ratio\n",
       "    );\n",
       "\n",
       "    fig.rubberband_context.strokeRect(min_x, min_y, width, height);\n",
       "};\n",
       "\n",
       "mpl.figure.prototype.handle_figure_label = function (fig, msg) {\n",
       "    // Updates the figure title.\n",
       "    fig.header.textContent = msg['label'];\n",
       "};\n",
       "\n",
       "mpl.figure.prototype.handle_cursor = function (fig, msg) {\n",
       "    fig.canvas_div.style.cursor = msg['cursor'];\n",
       "};\n",
       "\n",
       "mpl.figure.prototype.handle_message = function (fig, msg) {\n",
       "    fig.message.textContent = msg['message'];\n",
       "};\n",
       "\n",
       "mpl.figure.prototype.handle_draw = function (fig, _msg) {\n",
       "    // Request the server to send over a new figure.\n",
       "    fig.send_draw_message();\n",
       "};\n",
       "\n",
       "mpl.figure.prototype.handle_image_mode = function (fig, msg) {\n",
       "    fig.image_mode = msg['mode'];\n",
       "};\n",
       "\n",
       "mpl.figure.prototype.handle_history_buttons = function (fig, msg) {\n",
       "    for (var key in msg) {\n",
       "        if (!(key in fig.buttons)) {\n",
       "            continue;\n",
       "        }\n",
       "        fig.buttons[key].disabled = !msg[key];\n",
       "        fig.buttons[key].setAttribute('aria-disabled', !msg[key]);\n",
       "    }\n",
       "};\n",
       "\n",
       "mpl.figure.prototype.handle_navigate_mode = function (fig, msg) {\n",
       "    if (msg['mode'] === 'PAN') {\n",
       "        fig.buttons['Pan'].classList.add('active');\n",
       "        fig.buttons['Zoom'].classList.remove('active');\n",
       "    } else if (msg['mode'] === 'ZOOM') {\n",
       "        fig.buttons['Pan'].classList.remove('active');\n",
       "        fig.buttons['Zoom'].classList.add('active');\n",
       "    } else {\n",
       "        fig.buttons['Pan'].classList.remove('active');\n",
       "        fig.buttons['Zoom'].classList.remove('active');\n",
       "    }\n",
       "};\n",
       "\n",
       "mpl.figure.prototype.updated_canvas_event = function () {\n",
       "    // Called whenever the canvas gets updated.\n",
       "    this.send_message('ack', {});\n",
       "};\n",
       "\n",
       "// A function to construct a web socket function for onmessage handling.\n",
       "// Called in the figure constructor.\n",
       "mpl.figure.prototype._make_on_message_function = function (fig) {\n",
       "    return function socket_on_message(evt) {\n",
       "        if (evt.data instanceof Blob) {\n",
       "            var img = evt.data;\n",
       "            if (img.type !== 'image/png') {\n",
       "                /* FIXME: We get \"Resource interpreted as Image but\n",
       "                 * transferred with MIME type text/plain:\" errors on\n",
       "                 * Chrome.  But how to set the MIME type?  It doesn't seem\n",
       "                 * to be part of the websocket stream */\n",
       "                img.type = 'image/png';\n",
       "            }\n",
       "\n",
       "            /* Free the memory for the previous frames */\n",
       "            if (fig.imageObj.src) {\n",
       "                (window.URL || window.webkitURL).revokeObjectURL(\n",
       "                    fig.imageObj.src\n",
       "                );\n",
       "            }\n",
       "\n",
       "            fig.imageObj.src = (window.URL || window.webkitURL).createObjectURL(\n",
       "                img\n",
       "            );\n",
       "            fig.updated_canvas_event();\n",
       "            fig.waiting = false;\n",
       "            return;\n",
       "        } else if (\n",
       "            typeof evt.data === 'string' &&\n",
       "            evt.data.slice(0, 21) === 'data:image/png;base64'\n",
       "        ) {\n",
       "            fig.imageObj.src = evt.data;\n",
       "            fig.updated_canvas_event();\n",
       "            fig.waiting = false;\n",
       "            return;\n",
       "        }\n",
       "\n",
       "        var msg = JSON.parse(evt.data);\n",
       "        var msg_type = msg['type'];\n",
       "\n",
       "        // Call the  \"handle_{type}\" callback, which takes\n",
       "        // the figure and JSON message as its only arguments.\n",
       "        try {\n",
       "            var callback = fig['handle_' + msg_type];\n",
       "        } catch (e) {\n",
       "            console.log(\n",
       "                \"No handler for the '\" + msg_type + \"' message type: \",\n",
       "                msg\n",
       "            );\n",
       "            return;\n",
       "        }\n",
       "\n",
       "        if (callback) {\n",
       "            try {\n",
       "                // console.log(\"Handling '\" + msg_type + \"' message: \", msg);\n",
       "                callback(fig, msg);\n",
       "            } catch (e) {\n",
       "                console.log(\n",
       "                    \"Exception inside the 'handler_\" + msg_type + \"' callback:\",\n",
       "                    e,\n",
       "                    e.stack,\n",
       "                    msg\n",
       "                );\n",
       "            }\n",
       "        }\n",
       "    };\n",
       "};\n",
       "\n",
       "function getModifiers(event) {\n",
       "    var mods = [];\n",
       "    if (event.ctrlKey) {\n",
       "        mods.push('ctrl');\n",
       "    }\n",
       "    if (event.altKey) {\n",
       "        mods.push('alt');\n",
       "    }\n",
       "    if (event.shiftKey) {\n",
       "        mods.push('shift');\n",
       "    }\n",
       "    if (event.metaKey) {\n",
       "        mods.push('meta');\n",
       "    }\n",
       "    return mods;\n",
       "}\n",
       "\n",
       "/*\n",
       " * return a copy of an object with only non-object keys\n",
       " * we need this to avoid circular references\n",
       " * https://stackoverflow.com/a/24161582/3208463\n",
       " */\n",
       "function simpleKeys(original) {\n",
       "    return Object.keys(original).reduce(function (obj, key) {\n",
       "        if (typeof original[key] !== 'object') {\n",
       "            obj[key] = original[key];\n",
       "        }\n",
       "        return obj;\n",
       "    }, {});\n",
       "}\n",
       "\n",
       "mpl.figure.prototype.mouse_event = function (event, name) {\n",
       "    if (name === 'button_press') {\n",
       "        this.canvas.focus();\n",
       "        this.canvas_div.focus();\n",
       "    }\n",
       "\n",
       "    // from https://stackoverflow.com/q/1114465\n",
       "    var boundingRect = this.canvas.getBoundingClientRect();\n",
       "    var x = (event.clientX - boundingRect.left) * this.ratio;\n",
       "    var y = (event.clientY - boundingRect.top) * this.ratio;\n",
       "\n",
       "    this.send_message(name, {\n",
       "        x: x,\n",
       "        y: y,\n",
       "        button: event.button,\n",
       "        step: event.step,\n",
       "        modifiers: getModifiers(event),\n",
       "        guiEvent: simpleKeys(event),\n",
       "    });\n",
       "\n",
       "    return false;\n",
       "};\n",
       "\n",
       "mpl.figure.prototype._key_event_extra = function (_event, _name) {\n",
       "    // Handle any extra behaviour associated with a key event\n",
       "};\n",
       "\n",
       "mpl.figure.prototype.key_event = function (event, name) {\n",
       "    // Prevent repeat events\n",
       "    if (name === 'key_press') {\n",
       "        if (event.key === this._key) {\n",
       "            return;\n",
       "        } else {\n",
       "            this._key = event.key;\n",
       "        }\n",
       "    }\n",
       "    if (name === 'key_release') {\n",
       "        this._key = null;\n",
       "    }\n",
       "\n",
       "    var value = '';\n",
       "    if (event.ctrlKey && event.key !== 'Control') {\n",
       "        value += 'ctrl+';\n",
       "    }\n",
       "    else if (event.altKey && event.key !== 'Alt') {\n",
       "        value += 'alt+';\n",
       "    }\n",
       "    else if (event.shiftKey && event.key !== 'Shift') {\n",
       "        value += 'shift+';\n",
       "    }\n",
       "\n",
       "    value += 'k' + event.key;\n",
       "\n",
       "    this._key_event_extra(event, name);\n",
       "\n",
       "    this.send_message(name, { key: value, guiEvent: simpleKeys(event) });\n",
       "    return false;\n",
       "};\n",
       "\n",
       "mpl.figure.prototype.toolbar_button_onclick = function (name) {\n",
       "    if (name === 'download') {\n",
       "        this.handle_save(this, null);\n",
       "    } else {\n",
       "        this.send_message('toolbar_button', { name: name });\n",
       "    }\n",
       "};\n",
       "\n",
       "mpl.figure.prototype.toolbar_button_onmouseover = function (tooltip) {\n",
       "    this.message.textContent = tooltip;\n",
       "};\n",
       "\n",
       "///////////////// REMAINING CONTENT GENERATED BY embed_js.py /////////////////\n",
       "// prettier-ignore\n",
       "var _JSXTOOLS_RESIZE_OBSERVER=function(A){var t,i=new WeakMap,n=new WeakMap,a=new WeakMap,r=new WeakMap,o=new Set;function s(e){if(!(this instanceof s))throw new TypeError(\"Constructor requires 'new' operator\");i.set(this,e)}function h(){throw new TypeError(\"Function is not a constructor\")}function c(e,t,i,n){e=0 in arguments?Number(arguments[0]):0,t=1 in arguments?Number(arguments[1]):0,i=2 in arguments?Number(arguments[2]):0,n=3 in arguments?Number(arguments[3]):0,this.right=(this.x=this.left=e)+(this.width=i),this.bottom=(this.y=this.top=t)+(this.height=n),Object.freeze(this)}function d(){t=requestAnimationFrame(d);var s=new WeakMap,p=new Set;o.forEach((function(t){r.get(t).forEach((function(i){var r=t instanceof window.SVGElement,o=a.get(t),d=r?0:parseFloat(o.paddingTop),f=r?0:parseFloat(o.paddingRight),l=r?0:parseFloat(o.paddingBottom),u=r?0:parseFloat(o.paddingLeft),g=r?0:parseFloat(o.borderTopWidth),m=r?0:parseFloat(o.borderRightWidth),w=r?0:parseFloat(o.borderBottomWidth),b=u+f,F=d+l,v=(r?0:parseFloat(o.borderLeftWidth))+m,W=g+w,y=r?0:t.offsetHeight-W-t.clientHeight,E=r?0:t.offsetWidth-v-t.clientWidth,R=b+v,z=F+W,M=r?t.width:parseFloat(o.width)-R-E,O=r?t.height:parseFloat(o.height)-z-y;if(n.has(t)){var k=n.get(t);if(k[0]===M&&k[1]===O)return}n.set(t,[M,O]);var S=Object.create(h.prototype);S.target=t,S.contentRect=new c(u,d,M,O),s.has(i)||(s.set(i,[]),p.add(i)),s.get(i).push(S)}))})),p.forEach((function(e){i.get(e).call(e,s.get(e),e)}))}return s.prototype.observe=function(i){if(i instanceof window.Element){r.has(i)||(r.set(i,new Set),o.add(i),a.set(i,window.getComputedStyle(i)));var n=r.get(i);n.has(this)||n.add(this),cancelAnimationFrame(t),t=requestAnimationFrame(d)}},s.prototype.unobserve=function(i){if(i instanceof window.Element&&r.has(i)){var n=r.get(i);n.has(this)&&(n.delete(this),n.size||(r.delete(i),o.delete(i))),n.size||r.delete(i),o.size||cancelAnimationFrame(t)}},A.DOMRectReadOnly=c,A.ResizeObserver=s,A.ResizeObserverEntry=h,A}; // eslint-disable-line\n",
       "mpl.toolbar_items = [[\"Home\", \"Reset original view\", \"fa fa-home\", \"home\"], [\"Back\", \"Back to previous view\", \"fa fa-arrow-left\", \"back\"], [\"Forward\", \"Forward to next view\", \"fa fa-arrow-right\", \"forward\"], [\"\", \"\", \"\", \"\"], [\"Pan\", \"Left button pans, Right button zooms\\nx/y fixes axis, CTRL fixes aspect\", \"fa fa-arrows\", \"pan\"], [\"Zoom\", \"Zoom to rectangle\\nx/y fixes axis\", \"fa fa-square-o\", \"zoom\"], [\"\", \"\", \"\", \"\"], [\"Download\", \"Download plot\", \"fa fa-floppy-o\", \"download\"]];\n",
       "\n",
       "mpl.extensions = [\"eps\", \"jpeg\", \"pgf\", \"pdf\", \"png\", \"ps\", \"raw\", \"svg\", \"tif\", \"webp\"];\n",
       "\n",
       "mpl.default_extension = \"png\";/* global mpl */\n",
       "\n",
       "var comm_websocket_adapter = function (comm) {\n",
       "    // Create a \"websocket\"-like object which calls the given IPython comm\n",
       "    // object with the appropriate methods. Currently this is a non binary\n",
       "    // socket, so there is still some room for performance tuning.\n",
       "    var ws = {};\n",
       "\n",
       "    ws.binaryType = comm.kernel.ws.binaryType;\n",
       "    ws.readyState = comm.kernel.ws.readyState;\n",
       "    function updateReadyState(_event) {\n",
       "        if (comm.kernel.ws) {\n",
       "            ws.readyState = comm.kernel.ws.readyState;\n",
       "        } else {\n",
       "            ws.readyState = 3; // Closed state.\n",
       "        }\n",
       "    }\n",
       "    comm.kernel.ws.addEventListener('open', updateReadyState);\n",
       "    comm.kernel.ws.addEventListener('close', updateReadyState);\n",
       "    comm.kernel.ws.addEventListener('error', updateReadyState);\n",
       "\n",
       "    ws.close = function () {\n",
       "        comm.close();\n",
       "    };\n",
       "    ws.send = function (m) {\n",
       "        //console.log('sending', m);\n",
       "        comm.send(m);\n",
       "    };\n",
       "    // Register the callback with on_msg.\n",
       "    comm.on_msg(function (msg) {\n",
       "        //console.log('receiving', msg['content']['data'], msg);\n",
       "        var data = msg['content']['data'];\n",
       "        if (data['blob'] !== undefined) {\n",
       "            data = {\n",
       "                data: new Blob(msg['buffers'], { type: data['blob'] }),\n",
       "            };\n",
       "        }\n",
       "        // Pass the mpl event to the overridden (by mpl) onmessage function.\n",
       "        ws.onmessage(data);\n",
       "    });\n",
       "    return ws;\n",
       "};\n",
       "\n",
       "mpl.mpl_figure_comm = function (comm, msg) {\n",
       "    // This is the function which gets called when the mpl process\n",
       "    // starts-up an IPython Comm through the \"matplotlib\" channel.\n",
       "\n",
       "    var id = msg.content.data.id;\n",
       "    // Get hold of the div created by the display call when the Comm\n",
       "    // socket was opened in Python.\n",
       "    var element = document.getElementById(id);\n",
       "    var ws_proxy = comm_websocket_adapter(comm);\n",
       "\n",
       "    function ondownload(figure, _format) {\n",
       "        window.open(figure.canvas.toDataURL());\n",
       "    }\n",
       "\n",
       "    var fig = new mpl.figure(id, ws_proxy, ondownload, element);\n",
       "\n",
       "    // Call onopen now - mpl needs it, as it is assuming we've passed it a real\n",
       "    // web socket which is closed, not our websocket->open comm proxy.\n",
       "    ws_proxy.onopen();\n",
       "\n",
       "    fig.parent_element = element;\n",
       "    fig.cell_info = mpl.find_output_cell(\"<div id='\" + id + \"'></div>\");\n",
       "    if (!fig.cell_info) {\n",
       "        console.error('Failed to find cell for figure', id, fig);\n",
       "        return;\n",
       "    }\n",
       "    fig.cell_info[0].output_area.element.on(\n",
       "        'cleared',\n",
       "        { fig: fig },\n",
       "        fig._remove_fig_handler\n",
       "    );\n",
       "};\n",
       "\n",
       "mpl.figure.prototype.handle_close = function (fig, msg) {\n",
       "    var width = fig.canvas.width / fig.ratio;\n",
       "    fig.cell_info[0].output_area.element.off(\n",
       "        'cleared',\n",
       "        fig._remove_fig_handler\n",
       "    );\n",
       "    fig.resizeObserverInstance.unobserve(fig.canvas_div);\n",
       "\n",
       "    // Update the output cell to use the data from the current canvas.\n",
       "    fig.push_to_output();\n",
       "    var dataURL = fig.canvas.toDataURL();\n",
       "    // Re-enable the keyboard manager in IPython - without this line, in FF,\n",
       "    // the notebook keyboard shortcuts fail.\n",
       "    IPython.keyboard_manager.enable();\n",
       "    fig.parent_element.innerHTML =\n",
       "        '<img src=\"' + dataURL + '\" width=\"' + width + '\">';\n",
       "    fig.close_ws(fig, msg);\n",
       "};\n",
       "\n",
       "mpl.figure.prototype.close_ws = function (fig, msg) {\n",
       "    fig.send_message('closing', msg);\n",
       "    // fig.ws.close()\n",
       "};\n",
       "\n",
       "mpl.figure.prototype.push_to_output = function (_remove_interactive) {\n",
       "    // Turn the data on the canvas into data in the output cell.\n",
       "    var width = this.canvas.width / this.ratio;\n",
       "    var dataURL = this.canvas.toDataURL();\n",
       "    this.cell_info[1]['text/html'] =\n",
       "        '<img src=\"' + dataURL + '\" width=\"' + width + '\">';\n",
       "};\n",
       "\n",
       "mpl.figure.prototype.updated_canvas_event = function () {\n",
       "    // Tell IPython that the notebook contents must change.\n",
       "    IPython.notebook.set_dirty(true);\n",
       "    this.send_message('ack', {});\n",
       "    var fig = this;\n",
       "    // Wait a second, then push the new image to the DOM so\n",
       "    // that it is saved nicely (might be nice to debounce this).\n",
       "    setTimeout(function () {\n",
       "        fig.push_to_output();\n",
       "    }, 1000);\n",
       "};\n",
       "\n",
       "mpl.figure.prototype._init_toolbar = function () {\n",
       "    var fig = this;\n",
       "\n",
       "    var toolbar = document.createElement('div');\n",
       "    toolbar.classList = 'btn-toolbar';\n",
       "    this.root.appendChild(toolbar);\n",
       "\n",
       "    function on_click_closure(name) {\n",
       "        return function (_event) {\n",
       "            return fig.toolbar_button_onclick(name);\n",
       "        };\n",
       "    }\n",
       "\n",
       "    function on_mouseover_closure(tooltip) {\n",
       "        return function (event) {\n",
       "            if (!event.currentTarget.disabled) {\n",
       "                return fig.toolbar_button_onmouseover(tooltip);\n",
       "            }\n",
       "        };\n",
       "    }\n",
       "\n",
       "    fig.buttons = {};\n",
       "    var buttonGroup = document.createElement('div');\n",
       "    buttonGroup.classList = 'btn-group';\n",
       "    var button;\n",
       "    for (var toolbar_ind in mpl.toolbar_items) {\n",
       "        var name = mpl.toolbar_items[toolbar_ind][0];\n",
       "        var tooltip = mpl.toolbar_items[toolbar_ind][1];\n",
       "        var image = mpl.toolbar_items[toolbar_ind][2];\n",
       "        var method_name = mpl.toolbar_items[toolbar_ind][3];\n",
       "\n",
       "        if (!name) {\n",
       "            /* Instead of a spacer, we start a new button group. */\n",
       "            if (buttonGroup.hasChildNodes()) {\n",
       "                toolbar.appendChild(buttonGroup);\n",
       "            }\n",
       "            buttonGroup = document.createElement('div');\n",
       "            buttonGroup.classList = 'btn-group';\n",
       "            continue;\n",
       "        }\n",
       "\n",
       "        button = fig.buttons[name] = document.createElement('button');\n",
       "        button.classList = 'btn btn-default';\n",
       "        button.href = '#';\n",
       "        button.title = name;\n",
       "        button.innerHTML = '<i class=\"fa ' + image + ' fa-lg\"></i>';\n",
       "        button.addEventListener('click', on_click_closure(method_name));\n",
       "        button.addEventListener('mouseover', on_mouseover_closure(tooltip));\n",
       "        buttonGroup.appendChild(button);\n",
       "    }\n",
       "\n",
       "    if (buttonGroup.hasChildNodes()) {\n",
       "        toolbar.appendChild(buttonGroup);\n",
       "    }\n",
       "\n",
       "    // Add the status bar.\n",
       "    var status_bar = document.createElement('span');\n",
       "    status_bar.classList = 'mpl-message pull-right';\n",
       "    toolbar.appendChild(status_bar);\n",
       "    this.message = status_bar;\n",
       "\n",
       "    // Add the close button to the window.\n",
       "    var buttongrp = document.createElement('div');\n",
       "    buttongrp.classList = 'btn-group inline pull-right';\n",
       "    button = document.createElement('button');\n",
       "    button.classList = 'btn btn-mini btn-primary';\n",
       "    button.href = '#';\n",
       "    button.title = 'Stop Interaction';\n",
       "    button.innerHTML = '<i class=\"fa fa-power-off icon-remove icon-large\"></i>';\n",
       "    button.addEventListener('click', function (_evt) {\n",
       "        fig.handle_close(fig, {});\n",
       "    });\n",
       "    button.addEventListener(\n",
       "        'mouseover',\n",
       "        on_mouseover_closure('Stop Interaction')\n",
       "    );\n",
       "    buttongrp.appendChild(button);\n",
       "    var titlebar = this.root.querySelector('.ui-dialog-titlebar');\n",
       "    titlebar.insertBefore(buttongrp, titlebar.firstChild);\n",
       "};\n",
       "\n",
       "mpl.figure.prototype._remove_fig_handler = function (event) {\n",
       "    var fig = event.data.fig;\n",
       "    if (event.target !== this) {\n",
       "        // Ignore bubbled events from children.\n",
       "        return;\n",
       "    }\n",
       "    fig.close_ws(fig, {});\n",
       "};\n",
       "\n",
       "mpl.figure.prototype._root_extra_style = function (el) {\n",
       "    el.style.boxSizing = 'content-box'; // override notebook setting of border-box.\n",
       "};\n",
       "\n",
       "mpl.figure.prototype._canvas_extra_style = function (el) {\n",
       "    // this is important to make the div 'focusable\n",
       "    el.setAttribute('tabindex', 0);\n",
       "    // reach out to IPython and tell the keyboard manager to turn it's self\n",
       "    // off when our div gets focus\n",
       "\n",
       "    // location in version 3\n",
       "    if (IPython.notebook.keyboard_manager) {\n",
       "        IPython.notebook.keyboard_manager.register_events(el);\n",
       "    } else {\n",
       "        // location in version 2\n",
       "        IPython.keyboard_manager.register_events(el);\n",
       "    }\n",
       "};\n",
       "\n",
       "mpl.figure.prototype._key_event_extra = function (event, _name) {\n",
       "    // Check for shift+enter\n",
       "    if (event.shiftKey && event.which === 13) {\n",
       "        this.canvas_div.blur();\n",
       "        // select the cell after this one\n",
       "        var index = IPython.notebook.find_cell_index(this.cell_info[0]);\n",
       "        IPython.notebook.select(index + 1);\n",
       "    }\n",
       "};\n",
       "\n",
       "mpl.figure.prototype.handle_save = function (fig, _msg) {\n",
       "    fig.ondownload(fig, null);\n",
       "};\n",
       "\n",
       "mpl.find_output_cell = function (html_output) {\n",
       "    // Return the cell and output element which can be found *uniquely* in the notebook.\n",
       "    // Note - this is a bit hacky, but it is done because the \"notebook_saving.Notebook\"\n",
       "    // IPython event is triggered only after the cells have been serialised, which for\n",
       "    // our purposes (turning an active figure into a static one), is too late.\n",
       "    var cells = IPython.notebook.get_cells();\n",
       "    var ncells = cells.length;\n",
       "    for (var i = 0; i < ncells; i++) {\n",
       "        var cell = cells[i];\n",
       "        if (cell.cell_type === 'code') {\n",
       "            for (var j = 0; j < cell.output_area.outputs.length; j++) {\n",
       "                var data = cell.output_area.outputs[j];\n",
       "                if (data.data) {\n",
       "                    // IPython >= 3 moved mimebundle to data attribute of output\n",
       "                    data = data.data;\n",
       "                }\n",
       "                if (data['text/html'] === html_output) {\n",
       "                    return [cell, data, j];\n",
       "                }\n",
       "            }\n",
       "        }\n",
       "    }\n",
       "};\n",
       "\n",
       "// Register the function which deals with the matplotlib target/channel.\n",
       "// The kernel may be null if the page has been refreshed.\n",
       "if (IPython.notebook.kernel !== null) {\n",
       "    IPython.notebook.kernel.comm_manager.register_target(\n",
       "        'matplotlib',\n",
       "        mpl.mpl_figure_comm\n",
       "    );\n",
       "}\n"
      ],
      "text/plain": [
       "<IPython.core.display.Javascript object>"
      ]
     },
     "metadata": {},
     "output_type": "display_data"
    },
    {
     "data": {
      "text/html": [
       "<img src=\"data:image/png;base64,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\" width=\"640\">"
      ],
      "text/plain": [
       "<IPython.core.display.HTML object>"
      ]
     },
     "metadata": {},
     "output_type": "display_data"
    }
   ],
   "source": [
    "#cross product\n",
    "v1 = [0.5, 1.4, 0.1]\n",
    "v2 = [0.9, 1.2, 0.6]\n",
    "v3 = np.cross(x,y)\n",
    "\n",
    "#Here's how we can plot them - ignore this code's operations for now. \n",
    "import matplotlib.pyplot as plt\n",
    "from mpl_toolkits.mplot3d import Axes3D\n",
    "\n",
    "# Create a figure and a 3D axis\n",
    "fig = plt.figure()\n",
    "ax = fig.add_subplot(111, projection='3d')\n",
    "\n",
    "# Plot the vectors\n",
    "origin = np.array([0, 0, 0]) # origin point\n",
    "\n",
    "ax.quiver(*origin, *v1, color='r', length=1, normalize=True)\n",
    "ax.quiver(*origin, *v2, color='g', length=1, normalize=True)\n",
    "ax.quiver(*origin, *v3, color='b', length=1, normalize=True)\n",
    "\n",
    "# Set the limits of the plot\n",
    "ax.set_xlim([0, 2])\n",
    "ax.set_ylim([0, 2])\n",
    "ax.set_zlim([0, 2])\n",
    "\n",
    "# Label the axes\n",
    "ax.set_xlabel('X')\n",
    "ax.set_ylabel('Y')\n",
    "ax.set_zlabel('Z')\n",
    "\n",
    "plt.show()\n"
   ]
  },
  {
   "cell_type": "markdown",
   "metadata": {},
   "source": [
    "### Broadcasting:"
   ]
  },
  {
   "cell_type": "code",
   "execution_count": 41,
   "metadata": {},
   "outputs": [
    {
     "name": "stdout",
     "output_type": "stream",
     "text": [
      "x:\n",
      " [[ 0  1  2]\n",
      " [ 3  4  5]\n",
      " [ 6  7  8]\n",
      " [ 9 10 11]\n",
      " [12 13 14]]\n",
      "y:\n",
      " [-1 -1  0]\n"
     ]
    },
    {
     "data": {
      "text/plain": [
       "array([[-1,  0,  2],\n",
       "       [ 2,  3,  5],\n",
       "       [ 5,  6,  8],\n",
       "       [ 8,  9, 11],\n",
       "       [11, 12, 14]])"
      ]
     },
     "execution_count": 41,
     "metadata": {},
     "output_type": "execute_result"
    }
   ],
   "source": [
    "x = np.arange(15).reshape(5, 3)\n",
    "y = np.random.randint(-1, high=1, size=3)\n",
    "print('x:\\n', x)\n",
    "print('y:\\n', y)\n",
    "x + y"
   ]
  },
  {
   "cell_type": "code",
   "execution_count": 29,
   "metadata": {},
   "outputs": [
    {
     "data": {
      "image/png": "[encoded data removed]",
      "text/plain": [
       "<Figure size 432x288 with 1 Axes>"
      ]
     },
     "metadata": {},
     "output_type": "display_data"
    }
   ],
   "source": [
    "x = np.linspace(0, 2 * np.pi, 1000)\n",
    "y = np.sin(x) ** 3\n",
    "\n",
    "plt.plot(x, y);"
   ]
  },
  {
   "cell_type": "markdown",
   "metadata": {},
   "source": [
    "## Indexing"
   ]
  },
  {
   "cell_type": "code",
   "execution_count": 31,
   "metadata": {},
   "outputs": [
    {
     "data": {
      "text/plain": [
       "array([[1, 2, 3],\n",
       "       [3, 2, 1]])"
      ]
     },
     "execution_count": 31,
     "metadata": {},
     "output_type": "execute_result"
    }
   ],
   "source": [
    "x = np.array([[1, 2, 3], [3, 2, 1]])\n",
    "x"
   ]
  },
  {
   "cell_type": "code",
   "execution_count": 32,
   "metadata": {},
   "outputs": [
    {
     "data": {
      "text/plain": [
       "2"
      ]
     },
     "execution_count": 32,
     "metadata": {},
     "output_type": "execute_result"
    }
   ],
   "source": [
    "x[0, 1]"
   ]
  },
  {
   "cell_type": "code",
   "execution_count": 33,
   "metadata": {},
   "outputs": [
    {
     "data": {
      "text/plain": [
       "array([3, 2, 1])"
      ]
     },
     "execution_count": 33,
     "metadata": {},
     "output_type": "execute_result"
    }
   ],
   "source": [
    "x[1]"
   ]
  },
  {
   "cell_type": "code",
   "execution_count": 34,
   "metadata": {},
   "outputs": [
    {
     "data": {
      "text/plain": [
       "array([[2, 3],\n",
       "       [2, 1]])"
      ]
     },
     "execution_count": 34,
     "metadata": {},
     "output_type": "execute_result"
    }
   ],
   "source": [
    "x[:, 1:3]"
   ]
  },
  {
   "cell_type": "code",
   "execution_count": 123,
   "metadata": {
    "collapsed": true,
    "jupyter": {
     "outputs_hidden": true
    }
   },
   "outputs": [],
   "source": [
    "y = np.array([-0.1, -0.05, 0.35, 0.5, 0.9, 1.1])"
   ]
  },
  {
   "cell_type": "code",
   "execution_count": 124,
   "metadata": {},
   "outputs": [
    {
     "data": {
      "text/plain": [
       "array([0.  , 0.  , 0.35, 0.5 , 0.5 , 0.5 ])"
      ]
     },
     "execution_count": 124,
     "metadata": {},
     "output_type": "execute_result"
    }
   ],
   "source": [
    "y.clip(0, 0.5)"
   ]
  },
  {
   "cell_type": "markdown",
   "metadata": {},
   "source": [
    "## Exercises"
   ]
  },
  {
   "cell_type": "markdown",
   "metadata": {},
   "source": [
    "Try the three exercises at http://www.scipy-lectures.org/intro/numpy/exercises.html#array-manipulations"
   ]
  }
 ],
 "metadata": {
  "kernelspec": {
   "display_name": "Python 3 (ipykernel)",
   "language": "python",
   "name": "python3"
  },
  "language_info": {
   "codemirror_mode": {
    "name": "ipython",
    "version": 3
   },
   "file_extension": ".py",
   "mimetype": "text/x-python",
   "name": "python",
   "nbconvert_exporter": "python",
   "pygments_lexer": "ipython3",
   "version": "3.11.4"
  }
 },
 "nbformat": 4,
 "nbformat_minor": 4
}
