{
 "cells": [
  {
   "cell_type": "markdown",
   "metadata": {},
   "source": [
    "# Introduction to NumPy\n",
    "\n",
    "**Stefan Van Der Walt and Suhas Somnath and Rama Vasudevan**\n",
    "\n",
    "## What do I use NumPy for?\n",
    "  1. An array object of arbitrary homogeneous items\n",
    "  2. Fast mathematical operations over arrays\n",
    "  3. Linear Algebra, Fourier Transforms, Random Number Generation"
   ]
  },
  {
   "cell_type": "code",
   "execution_count": 1,
   "metadata": {},
   "outputs": [],
   "source": [
    "%matplotlib notebook"
   ]
  },
  {
   "cell_type": "code",
   "execution_count": 2,
   "metadata": {},
   "outputs": [
    {
     "data": {
      "text/plain": [
       "'1.26.4'"
      ]
     },
     "execution_count": 2,
     "metadata": {},
     "output_type": "execute_result"
    }
   ],
   "source": [
    "import numpy as np\n",
    "import matplotlib.pyplot as plt\n",
    "np.__version__"
   ]
  },
  {
   "cell_type": "markdown",
   "metadata": {},
   "source": [
    "## Where to get help?\n",
    "\n",
    "- http://docs.scipy.org\n",
    "- Forums: mailing list, http://stackoverflow.com\n",
    "\n",
    "## Where do I learn more?\n",
    "\n",
    "- <a href=\"http://mentat.za.net/numpy/intro/intro.html\">NumPy introductory tutorial</a>\n",
    "- <a href=\"http://scipy-lectures.github.com\">SciPy Lectures</a>"
   ]
  },
  {
   "cell_type": "markdown",
   "metadata": {},
   "source": [
    "## The structure of a NumPy array\n",
    "Contiguous sequence of data"
   ]
  },
  {
   "cell_type": "markdown",
   "metadata": {},
   "source": [
    "\n",
    "## Creating arrays\n",
    "### 1D arrays"
   ]
  },
  {
   "cell_type": "code",
   "execution_count": 3,
   "metadata": {},
   "outputs": [
    {
     "data": {
      "text/plain": [
       "array([0, 1, 2, 3, 4])"
      ]
     },
     "execution_count": 3,
     "metadata": {},
     "output_type": "execute_result"
    }
   ],
   "source": [
    "np.arange(5)"
   ]
  },
  {
   "cell_type": "code",
   "execution_count": 10,
   "metadata": {},
   "outputs": [
    {
     "data": {
      "text/plain": [
       "array([2.  , 3.25, 4.5 , 5.75, 7.  ])"
      ]
     },
     "execution_count": 10,
     "metadata": {},
     "output_type": "execute_result"
    }
   ],
   "source": [
    "# start, stop, step\n",
    "x = np.arange(2, 8, 1.25)\n",
    "x"
   ]
  },
  {
   "cell_type": "code",
   "execution_count": 5,
   "metadata": {},
   "outputs": [
    {
     "data": {
      "text/plain": [
       "array([0. , 0.1, 0.2, 0.3, 0.4, 0.5, 0.6, 0.7, 0.8, 0.9, 1. ])"
      ]
     },
     "execution_count": 5,
     "metadata": {},
     "output_type": "execute_result"
    }
   ],
   "source": [
    "np.linspace(0, 1, num=11)"
   ]
  },
  {
   "cell_type": "markdown",
   "metadata": {},
   "source": [
    "## Exercises\n",
    "\n",
    "1. Make a function that takes as input a starting number, and returns a numpy array of size 10 of all the odd numbers starting from that number onwards. E.g., if the input to the function is 6, then it should return 7,9,11,.... \n",
    "\n",
    "2. Create a vector equally spaced between -10 and 10, with 101 elements.\n",
    "\n",
    "3. Make an array of even numbers from 0 to 100. Iterate through each element in a for loop. Every time the element is divisible by 10, print out the number.\n"
   ]
  },
  {
   "cell_type": "code",
   "execution_count": 22,
   "metadata": {},
   "outputs": [
    {
     "name": "stdout",
     "output_type": "stream",
     "text": [
      "[ 7  9 11 13 15 17 19 21 23 25 27 29] 12\n",
      "[-10.   -9.8  -9.6  -9.4  -9.2  -9.   -8.8  -8.6  -8.4  -8.2  -8.   -7.8\n",
      "  -7.6  -7.4  -7.2  -7.   -6.8  -6.6  -6.4  -6.2  -6.   -5.8  -5.6  -5.4\n",
      "  -5.2  -5.   -4.8  -4.6  -4.4  -4.2  -4.   -3.8  -3.6  -3.4  -3.2  -3.\n",
      "  -2.8  -2.6  -2.4  -2.2  -2.   -1.8  -1.6  -1.4  -1.2  -1.   -0.8  -0.6\n",
      "  -0.4  -0.2   0.    0.2   0.4   0.6   0.8   1.    1.2   1.4   1.6   1.8\n",
      "   2.    2.2   2.4   2.6   2.8   3.    3.2   3.4   3.6   3.8   4.    4.2\n",
      "   4.4   4.6   4.8   5.    5.2   5.4   5.6   5.8   6.    6.2   6.4   6.6\n",
      "   6.8   7.    7.2   7.4   7.6   7.8   8.    8.2   8.4   8.6   8.8   9.\n",
      "   9.2   9.4   9.6   9.8  10. ]\n"
     ]
    }
   ],
   "source": [
    "#Solutions\n",
    "#1\n",
    "def odd_number_return(start_number, size_of_array=10):\n",
    "    if start_number%2==0:\n",
    "        start_number+=1\n",
    "    output = np.arange(start_number, (start_number) + size_of_array*2, 2)\n",
    "    return output\n",
    "\n",
    "y = odd_number_return(7,12)\n",
    "print(y, len(y))\n",
    "\n",
    "#2 \n",
    "y = np.linspace(-10,10,101)\n",
    "print(y)\n",
    "\n",
    "\n"
   ]
  },
  {
   "cell_type": "code",
   "execution_count": 24,
   "metadata": {},
   "outputs": [
    {
     "name": "stdout",
     "output_type": "stream",
     "text": [
      "0\n",
      "10\n",
      "20\n",
      "30\n",
      "40\n",
      "50\n",
      "60\n",
      "70\n",
      "80\n",
      "90\n",
      "100\n"
     ]
    }
   ],
   "source": [
    "#3\n",
    "z = np.arange(0,102,2)\n",
    "for element in z:\n",
    "    if element%10==0:\n",
    "        print(element)\n"
   ]
  },
  {
   "cell_type": "markdown",
   "metadata": {},
   "source": [
    "### Multidimensional datasets"
   ]
  },
  {
   "cell_type": "code",
   "execution_count": 33,
   "metadata": {},
   "outputs": [
    {
     "data": {
      "text/plain": [
       "array([[ 0.07773683,  0.78830366, -3.28172667, -0.09673272],\n",
       "       [-0.10646057, -0.31695709, -1.35024164,  0.36246764],\n",
       "       [ 1.27895227, -0.52512001, -0.74524792, -2.15456049]])"
      ]
     },
     "execution_count": 33,
     "metadata": {},
     "output_type": "execute_result"
    }
   ],
   "source": [
    "np.random.randn(3, 4)"
   ]
  },
  {
   "cell_type": "code",
   "execution_count": 34,
   "metadata": {},
   "outputs": [
    {
     "data": {
      "text/plain": [
       "array([[0., 0., 0.],\n",
       "       [0., 0., 0.],\n",
       "       [0., 0., 0.]])"
      ]
     },
     "execution_count": 34,
     "metadata": {},
     "output_type": "execute_result"
    }
   ],
   "source": [
    "np.zeros((3,3))"
   ]
  },
  {
   "cell_type": "code",
   "execution_count": 35,
   "metadata": {},
   "outputs": [
    {
     "data": {
      "text/plain": [
       "array([[1., 1., 1., 1., 1.],\n",
       "       [1., 1., 1., 1., 1.]])"
      ]
     },
     "execution_count": 35,
     "metadata": {},
     "output_type": "execute_result"
    }
   ],
   "source": [
    "np.ones((2, 5))"
   ]
  },
  {
   "cell_type": "code",
   "execution_count": 39,
   "metadata": {},
   "outputs": [],
   "source": [
    "x = np.diag([1, -2, 3])"
   ]
  },
  {
   "cell_type": "code",
   "execution_count": 40,
   "metadata": {},
   "outputs": [
    {
     "data": {
      "text/plain": [
       "array([[1, 4],\n",
       "       [2, 8]], dtype=uint8)"
      ]
     },
     "execution_count": 40,
     "metadata": {},
     "output_type": "execute_result"
    }
   ],
   "source": [
    "np.array([[1, 4], [2, 8]], dtype=np.uint8)"
   ]
  },
  {
   "cell_type": "code",
   "execution_count": 43,
   "metadata": {},
   "outputs": [
    {
     "name": "stdout",
     "output_type": "stream",
     "text": [
      "0 0\n",
      "1 1\n",
      "2 2\n",
      "3 3\n",
      "4 4\n",
      "5 5\n",
      "6 6\n",
      "7 7\n",
      "8 8\n",
      "9 9\n"
     ]
    }
   ],
   "source": [
    "#get indices for diagonal\n",
    "rows_diag, cols_diag = np.diag_indices(10)\n",
    "\n",
    "#print(rows_diag, cols_diag)\n",
    "for row,col in zip(rows_diag, cols_diag):\n",
    "    print(row,col)"
   ]
  },
  {
   "cell_type": "markdown",
   "metadata": {},
   "source": [
    "### Exercises\n",
    "\n",
    "1. Make an array of zeros of shape (128,128). Hint: np.zeros(). \n",
    "\n",
    "\n",
    "2. Make a multidimensional array, called my_md_array, of shape (5,5) populated with random numbers drawn from a uniform distribution from (0,1). Note that you can use the function np.random.uniform(). Then change the diagonal of the matrix to be [1,2,3,4,5]. "
   ]
  },
  {
   "cell_type": "code",
   "execution_count": 53,
   "metadata": {},
   "outputs": [
    {
     "name": "stdout",
     "output_type": "stream",
     "text": [
      "[[1.         0.0197954  0.64911021 0.8616518  0.32149735]\n",
      " [0.56031402 2.         0.39112589 0.42411823 0.36224815]\n",
      " [0.42881913 0.37018285 3.         0.28033628 0.22552234]\n",
      " [0.3734956  0.05527963 0.42361218 4.         0.98627956]\n",
      " [0.65162929 0.47933281 0.9029979  0.68960211 5.        ]]\n",
      "[[1.         0.0197954  0.64911021 0.8616518  0.32149735]\n",
      " [0.56031402 2.         0.39112589 0.42411823 0.36224815]\n",
      " [0.42881913 0.37018285 3.         0.28033628 0.22552234]\n",
      " [0.3734956  0.05527963 0.42361218 4.         0.98627956]\n",
      " [0.65162929 0.47933281 0.9029979  0.68960211 5.        ]]\n"
     ]
    }
   ],
   "source": [
    "#1\n",
    "zeros_array = np.zeros((128,128))\n",
    "\n",
    "\n",
    "#2\n",
    "my_md_array = np.random.uniform(0,1,(5,5))\n",
    "rows_diag, cols_diag = np.diag_indices(5)\n",
    "\n",
    "diagonal_desired = [1,2,3,4,5]\n",
    "m = 0\n",
    "for row,col in zip(rows_diag, cols_diag):\n",
    "    my_md_array[row,col] = diagonal_desired[m]\n",
    "    m+=1\n",
    "print(my_md_array)\n",
    "\n",
    "#alternative solution - using enumerate.\n",
    "for ind, (row,col) in enumerate(zip(rows_diag, cols_diag)):\n",
    "    my_md_array[row,col] = diagonal_desired[ind]\n"
   ]
  },
  {
   "cell_type": "markdown",
   "metadata": {},
   "source": [
    "## Properties"
   ]
  },
  {
   "cell_type": "code",
   "execution_count": 60,
   "metadata": {},
   "outputs": [
    {
     "data": {
      "text/plain": [
       "0.008220890771961753"
      ]
     },
     "execution_count": 60,
     "metadata": {},
     "output_type": "execute_result"
    }
   ],
   "source": [
    "x = np.random.rand(3, 5)\n",
    "x.min()"
   ]
  },
  {
   "cell_type": "code",
   "execution_count": 61,
   "metadata": {},
   "outputs": [
    {
     "data": {
      "text/plain": [
       "15"
      ]
     },
     "execution_count": 61,
     "metadata": {},
     "output_type": "execute_result"
    }
   ],
   "source": [
    "x.size"
   ]
  },
  {
   "cell_type": "code",
   "execution_count": 62,
   "metadata": {},
   "outputs": [
    {
     "data": {
      "text/plain": [
       "dtype('float64')"
      ]
     },
     "execution_count": 62,
     "metadata": {},
     "output_type": "execute_result"
    }
   ],
   "source": [
    "x.dtype"
   ]
  },
  {
   "cell_type": "code",
   "execution_count": 63,
   "metadata": {},
   "outputs": [],
   "source": [
    "#making integer arrays\n",
    "\n",
    "y1 = np.random.randint(0,10,size=(4,5)) #random integer array\n",
    "y2 = np.zeros((4,5), dtype = np.int32)"
   ]
  },
  {
   "cell_type": "code",
   "execution_count": 64,
   "metadata": {},
   "outputs": [
    {
     "data": {
      "text/plain": [
       "(dtype('int64'), dtype('int32'))"
      ]
     },
     "execution_count": 64,
     "metadata": {},
     "output_type": "execute_result"
    }
   ],
   "source": [
    "y1.dtype, y2.dtype"
   ]
  },
  {
   "cell_type": "markdown",
   "metadata": {},
   "source": [
    "## Editing / Populating"
   ]
  },
  {
   "cell_type": "code",
   "execution_count": 65,
   "metadata": {},
   "outputs": [
    {
     "name": "stdout",
     "output_type": "stream",
     "text": [
      "[0 1 2 3 4]\n",
      "afer modification:\n",
      "[   0 -700    2    3    4]\n"
     ]
    }
   ],
   "source": [
    "x = np.arange(5)\n",
    "print(x)\n",
    "x[1] = -700\n",
    "print('afer modification:')\n",
    "print(x)"
   ]
  },
  {
   "cell_type": "code",
   "execution_count": 72,
   "metadata": {},
   "outputs": [
    {
     "name": "stdout",
     "output_type": "stream",
     "text": [
      "[[0.2853334  0.22365108 0.9618487 ]\n",
      " [0.02194542 3.14159265 0.42716084]\n",
      " [0.68369489 0.30601614 0.67182639]\n",
      " [0.42403671 0.86928088 0.51328064]\n",
      " [0.97283389 0.85722222 0.14925598]]\n",
      "[[3.         3.         3.        ]\n",
      " [0.02194542 3.14159265 0.42716084]\n",
      " [0.68369489 0.30601614 0.67182639]\n",
      " [0.42403671 0.86928088 0.51328064]\n",
      " [0.97283389 0.85722222 0.14925598]]\n",
      "[[0.61083353 0.02680026 0.95609102 0.46559762 0.25       0.42950019\n",
      "  0.09559432 0.21410248 0.91139602 0.27147362]\n",
      " [0.96553204 0.18896278 0.86357366 0.55323291 0.25       0.2035359\n",
      "  0.17576568 0.50932712 0.54145517 0.03163805]\n",
      " [5.         5.         5.         5.         0.25       5.\n",
      "  5.         5.         5.         5.        ]\n",
      " [0.74579382 0.07749713 0.52669974 0.13455005 0.25       2.72\n",
      "  0.6432027  0.53975322 0.52059673 0.90872565]\n",
      " [0.17367047 0.78547803 0.89162117 0.73603448 0.25       0.11653248\n",
      "  0.29387019 0.56549404 0.55310499 0.24752952]\n",
      " [0.57402202 0.85445633 0.79013947 0.33694628 0.25       0.49036851\n",
      "  0.38501408 0.7722913  0.32016566 0.56002393]\n",
      " [0.36912714 0.79004324 0.82747544 0.72765729 0.25       0.85608609\n",
      "  0.7653476  0.26319269 0.87967509 0.2059032 ]\n",
      " [0.79123961 0.69534992 0.55476089 0.24226071 0.25       0.54922323\n",
      "  0.39416624 0.61430872 0.16730764 0.70168835]\n",
      " [0.39435745 0.34075971 0.80785412 0.73665534 0.25       0.49465262\n",
      "  0.15984621 0.84540782 0.20089987 0.38972433]\n",
      " [0.09477965 0.59370163 0.17904782 0.97947074 0.25       0.16219451\n",
      "  0.93920224 0.83822576 0.61394814 0.7862148 ]]\n"
     ]
    }
   ],
   "source": [
    "y = np.random.rand(5,3)\n",
    "\n",
    "y[1,1] = np.pi\n",
    "print(y)\n",
    "\n",
    "y[0,:] = 3\n",
    "print(y)\n",
    "\n",
    "#exercise\n",
    "#change rows and columns to be specifiic values, e.g. [2,2] and [3rd row, 5th row] in a matrix of size (10,10).\n",
    "y = np.random.rand(10,10)\n",
    "y[2,2] = 10\n",
    "y[3,5] = 2.72\n",
    "y[2,:] = 5.0\n",
    "y[:,4] = 0.25\n",
    "\n",
    "print(y)"
   ]
  },
  {
   "cell_type": "markdown",
   "metadata": {},
   "source": [
    "## Reshaping"
   ]
  },
  {
   "cell_type": "code",
   "execution_count": 75,
   "metadata": {},
   "outputs": [
    {
     "data": {
      "text/plain": [
       "array([[7, 6, 2],\n",
       "       [0, 4, 0]])"
      ]
     },
     "execution_count": 75,
     "metadata": {},
     "output_type": "execute_result"
    }
   ],
   "source": [
    "x = np.random.randint(0, high=10, size=(2,3))\n",
    "x"
   ]
  },
  {
   "cell_type": "markdown",
   "metadata": {},
   "source": [
    "### Transpose"
   ]
  },
  {
   "cell_type": "code",
   "execution_count": 74,
   "metadata": {},
   "outputs": [
    {
     "data": {
      "text/plain": [
       "array([[0, 0],\n",
       "       [8, 2],\n",
       "       [3, 2]])"
      ]
     },
     "execution_count": 74,
     "metadata": {},
     "output_type": "execute_result"
    }
   ],
   "source": [
    "x.T"
   ]
  },
  {
   "cell_type": "markdown",
   "metadata": {},
   "source": [
    "### Reshape"
   ]
  },
  {
   "cell_type": "code",
   "execution_count": 76,
   "metadata": {},
   "outputs": [
    {
     "name": "stdout",
     "output_type": "stream",
     "text": [
      "\n",
      "----C Style---\n",
      "[[7]\n",
      " [6]\n",
      " [2]\n",
      " [0]\n",
      " [4]\n",
      " [0]]\n",
      "\n",
      "----Fortran Style---\n",
      "[[7]\n",
      " [0]\n",
      " [6]\n",
      " [4]\n",
      " [2]\n",
      " [0]]\n"
     ]
    }
   ],
   "source": [
    "y1 = np.reshape(x,(6,1), order = 'C') #default is C-type ordering\n",
    "y2 = np.reshape(x,(6,1), order = 'F') #you can choose Fortran-style ordering also\n",
    "\n",
    "print('\\n----C Style---')\n",
    "print(y1)\n",
    "print('\\n----Fortran Style---')\n",
    "print(y2)"
   ]
  },
  {
   "cell_type": "markdown",
   "metadata": {},
   "source": [
    "## Operations"
   ]
  },
  {
   "cell_type": "code",
   "execution_count": 38,
   "metadata": {},
   "outputs": [
    {
     "name": "stdout",
     "output_type": "stream",
     "text": [
      "x: [0 1 2 3 4]\n",
      "y: [4 8 9 5 8]\n"
     ]
    },
    {
     "data": {
      "text/plain": [
       "array([ 4,  9, 11,  8, 12])"
      ]
     },
     "execution_count": 38,
     "metadata": {},
     "output_type": "execute_result"
    }
   ],
   "source": [
    "#addition\n",
    "x = np.arange(5)\n",
    "y = np.random.randint(0, high=10, size=5)\n",
    "print('x:', x)\n",
    "print('y:', y)\n",
    "x + y"
   ]
  },
  {
   "cell_type": "code",
   "execution_count": 77,
   "metadata": {},
   "outputs": [
    {
     "name": "stdout",
     "output_type": "stream",
     "text": [
      "[0 1 2 3 4] [3 4 5 6 7]\n"
     ]
    }
   ],
   "source": [
    "#addition of scalar to vector\n",
    "\n",
    "x = np.arange(5)\n",
    "y = x+3\n",
    "print(x,y)"
   ]
  },
  {
   "cell_type": "code",
   "execution_count": 43,
   "metadata": {},
   "outputs": [
    {
     "name": "stdout",
     "output_type": "stream",
     "text": [
      "[0 1 2 3 4] [8 3 6 1 2] 26\n"
     ]
    }
   ],
   "source": [
    "#dot product\n",
    "\n",
    "x = np.arange(5)\n",
    "y = np.random.randint(0,10,5)\n",
    "\n",
    "print(x,y,np.dot(x,y))"
   ]
  },
  {
   "cell_type": "code",
   "execution_count": 83,
   "metadata": {},
   "outputs": [],
   "source": [
    "%matplotlib inline"
   ]
  },
  {
   "cell_type": "code",
   "execution_count": 86,
   "metadata": {},
   "outputs": [
    {
     "data": {
      "image/png": "[encoded data removed]",
      "text/plain": [
       "<Figure size 640x480 with 1 Axes>"
      ]
     },
     "metadata": {},
     "output_type": "display_data"
    }
   ],
   "source": [
    "#cross product\n",
    "v1 = [0.5, 1.4, 0.1]\n",
    "v2 = [0.9, 1.2, 0.6]\n",
    "v3 = np.cross(v1,v2)\n",
    "\n",
    "#Here's how we can plot them - ignore this code's operations for now. \n",
    "import matplotlib.pyplot as plt\n",
    "from mpl_toolkits.mplot3d import Axes3D\n",
    "\n",
    "# Create a figure and a 3D axis\n",
    "fig = plt.figure()\n",
    "ax = fig.add_subplot(111, projection='3d')\n",
    "\n",
    "# Plot the vectors\n",
    "origin = np.array([0, 0, 0]) # origin point\n",
    "\n",
    "ax.quiver(*origin, *v1, color='r', length=1, normalize=True)\n",
    "ax.quiver(*origin, *v2, color='g', length=1, normalize=True)\n",
    "ax.quiver(*origin, *v3, color='b', length=1, normalize=True)\n",
    "\n",
    "# Set the limits of the plot\n",
    "ax.set_xlim([0, 1])\n",
    "ax.set_ylim([0, 1])\n",
    "ax.set_zlim([0, 1])\n",
    "\n",
    "# Label the axes\n",
    "ax.set_xlabel('X')\n",
    "ax.set_ylabel('Y')\n",
    "ax.set_zlabel('Z')\n",
    "\n",
    "plt.show()\n"
   ]
  },
  {
   "cell_type": "markdown",
   "metadata": {},
   "source": [
    "### Broadcasting:"
   ]
  },
  {
   "cell_type": "code",
   "execution_count": 90,
   "metadata": {},
   "outputs": [
    {
     "name": "stdout",
     "output_type": "stream",
     "text": [
      "x:\n",
      " [[ 0  1  2]\n",
      " [ 3  4  5]\n",
      " [ 6  7  8]\n",
      " [ 9 10 11]\n",
      " [12 13 14]]\n",
      "y:\n",
      " [0 0 0]\n"
     ]
    },
    {
     "data": {
      "text/plain": [
       "array([[ 0,  1,  2],\n",
       "       [ 3,  4,  5],\n",
       "       [ 6,  7,  8],\n",
       "       [ 9, 10, 11],\n",
       "       [12, 13, 14]])"
      ]
     },
     "execution_count": 90,
     "metadata": {},
     "output_type": "execute_result"
    }
   ],
   "source": [
    "x = np.arange(15).reshape(5, 3)\n",
    "y = np.random.randint(-1, high=1, size=3)\n",
    "print('x:\\n', x)\n",
    "print('y:\\n', y)\n",
    "x + y"
   ]
  },
  {
   "cell_type": "code",
   "execution_count": 97,
   "metadata": {},
   "outputs": [
    {
     "name": "stdout",
     "output_type": "stream",
     "text": [
      "[[0.96514604 0.89243906 0.89565403]\n",
      " [0.59787991 0.50952629 0.59118071]\n",
      " [0.05058151 0.38541876 0.40998145]]\n"
     ]
    },
    {
     "data": {
      "text/plain": [
       "array([0.89243906, 0.50952629, 0.05058151])"
      ]
     },
     "execution_count": 97,
     "metadata": {},
     "output_type": "execute_result"
    }
   ],
   "source": [
    "a = np.random.rand(3,3)\n",
    "print(a)\n",
    "np.min(a, axis=0) #minimum of each col\n",
    "np.min(a, axis=1) #minimum of each row\n"
   ]
  },
  {
   "cell_type": "code",
   "execution_count": 29,
   "metadata": {},
   "outputs": [
    {
     "data": {
      "image/png": "[encoded data removed]",
      "text/plain": [
       "<Figure size 432x288 with 1 Axes>"
      ]
     },
     "metadata": {},
     "output_type": "display_data"
    }
   ],
   "source": [
    "x = np.linspace(0, 2 * np.pi, 1000)\n",
    "y = np.sin(x) ** 3\n",
    "\n",
    "plt.plot(x, y);"
   ]
  },
  {
   "cell_type": "markdown",
   "metadata": {},
   "source": [
    "## Indexing"
   ]
  },
  {
   "cell_type": "code",
   "execution_count": 31,
   "metadata": {},
   "outputs": [
    {
     "data": {
      "text/plain": [
       "array([[1, 2, 3],\n",
       "       [3, 2, 1]])"
      ]
     },
     "execution_count": 31,
     "metadata": {},
     "output_type": "execute_result"
    }
   ],
   "source": [
    "x = np.array([[1, 2, 3], [3, 2, 1]])\n",
    "x"
   ]
  },
  {
   "cell_type": "code",
   "execution_count": 32,
   "metadata": {},
   "outputs": [
    {
     "data": {
      "text/plain": [
       "2"
      ]
     },
     "execution_count": 32,
     "metadata": {},
     "output_type": "execute_result"
    }
   ],
   "source": [
    "x[0, 1]"
   ]
  },
  {
   "cell_type": "code",
   "execution_count": 33,
   "metadata": {},
   "outputs": [
    {
     "data": {
      "text/plain": [
       "array([3, 2, 1])"
      ]
     },
     "execution_count": 33,
     "metadata": {},
     "output_type": "execute_result"
    }
   ],
   "source": [
    "x[1]"
   ]
  },
  {
   "cell_type": "code",
   "execution_count": 34,
   "metadata": {},
   "outputs": [
    {
     "data": {
      "text/plain": [
       "array([[2, 3],\n",
       "       [2, 1]])"
      ]
     },
     "execution_count": 34,
     "metadata": {},
     "output_type": "execute_result"
    }
   ],
   "source": [
    "x[:, 1:3]"
   ]
  },
  {
   "cell_type": "code",
   "execution_count": 123,
   "metadata": {
    "collapsed": true,
    "jupyter": {
     "outputs_hidden": true
    }
   },
   "outputs": [],
   "source": [
    "y = np.array([-0.1, -0.05, 0.35, 0.5, 0.9, 1.1])"
   ]
  },
  {
   "cell_type": "code",
   "execution_count": 124,
   "metadata": {},
   "outputs": [
    {
     "data": {
      "text/plain": [
       "array([0.  , 0.  , 0.35, 0.5 , 0.5 , 0.5 ])"
      ]
     },
     "execution_count": 124,
     "metadata": {},
     "output_type": "execute_result"
    }
   ],
   "source": [
    "y.clip(0, 0.5)"
   ]
  },
  {
   "cell_type": "markdown",
   "metadata": {},
   "source": [
    "## Exercises"
   ]
  },
  {
   "cell_type": "markdown",
   "metadata": {},
   "source": [
    "Try the three exercises at http://www.scipy-lectures.org/intro/numpy/exercises.html#array-manipulations"
   ]
  }
 ],
 "metadata": {
  "kernelspec": {
   "display_name": "Python 3 (ipykernel)",
   "language": "python",
   "name": "python3"
  },
  "language_info": {
   "codemirror_mode": {
    "name": "ipython",
    "version": 3
   },
   "file_extension": ".py",
   "mimetype": "text/x-python",
   "name": "python",
   "nbconvert_exporter": "python",
   "pygments_lexer": "ipython3",
   "version": "3.10.14"
  }
 },
 "nbformat": 4,
 "nbformat_minor": 4
}
