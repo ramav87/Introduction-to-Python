{
 "cells": [
  {
   "cell_type": "markdown",
   "id": "bb73240e",
   "metadata": {},
   "source": [
    "# Python consolidation exercises\n",
    "\n",
    "Here we will do some exercises to consolodate what we have learned in the summer course to date...\n",
    "\n",
    "\n",
    "We will review:\n",
    "- variables\n",
    "- functions\n",
    "- lists\n",
    "- dictionaries\n",
    "- file IO\n",
    "- list comprehension"
   ]
  },
  {
   "cell_type": "markdown",
   "id": "0c57b47f",
   "metadata": {},
   "source": [
    "# Variables and functions\n",
    "\n",
    "### Exercise 1\n",
    "\n",
    "Task: Write a function mass_to_weight that converts mass (in kilograms) to weight (in Newtons) on different planets. Use the following gravitational accelerations: Earth = 9.81 m/s², Mars = 3.71 m/s², Jupiter = 24.79 m/s²."
   ]
  },
  {
   "cell_type": "code",
   "execution_count": 10,
   "id": "f8cd568e",
   "metadata": {},
   "outputs": [
    {
     "name": "stdout",
     "output_type": "stream",
     "text": [
      "2\n"
     ]
    }
   ],
   "source": [
    "# variable assignment\n",
    "a = 1\n",
    "\n",
    "a = a+1\n",
    "\n",
    "print(a)"
   ]
  },
  {
   "cell_type": "code",
   "execution_count": 12,
   "id": "bdb99c6e",
   "metadata": {},
   "outputs": [
    {
     "name": "stdout",
     "output_type": "stream",
     "text": [
      "1\n",
      "2\n",
      "3\n",
      "4\n",
      "5\n"
     ]
    }
   ],
   "source": [
    "# variable naming doesn't really matter\n",
    "values = [1,2,3,4,5]\n",
    "for value in values:\n",
    "    print(value)"
   ]
  },
  {
   "cell_type": "code",
   "execution_count": 100,
   "id": "8a05cb8d",
   "metadata": {},
   "outputs": [
    {
     "name": "stdout",
     "output_type": "stream",
     "text": [
      "apple_weight 490.5\n",
      "banana_weight 1.855\n",
      "another_banana_weight 14.873999999999999\n"
     ]
    },
    {
     "ename": "ValueError",
     "evalue": "Moon is not supported yet",
     "output_type": "error",
     "traceback": [
      "\u001b[1;31m---------------------------------------------------------------------------\u001b[0m",
      "\u001b[1;31mValueError\u001b[0m                                Traceback (most recent call last)",
      "Cell \u001b[1;32mIn[100], line 59\u001b[0m\n\u001b[0;32m     57\u001b[0m a_banana \u001b[38;5;241m=\u001b[39m \u001b[38;5;241m0.5\u001b[39m\n\u001b[0;32m     58\u001b[0m planet_name \u001b[38;5;241m=\u001b[39m \u001b[38;5;124m'\u001b[39m\u001b[38;5;124mMoon\u001b[39m\u001b[38;5;124m'\u001b[39m\n\u001b[1;32m---> 59\u001b[0m weight_of_banana_on_mars \u001b[38;5;241m=\u001b[39m \u001b[43mmass_to_weight_2\u001b[49m\u001b[43m(\u001b[49m\u001b[43ma_banana\u001b[49m\u001b[43m,\u001b[49m\u001b[43m \u001b[49m\u001b[43mplanet_name\u001b[49m\u001b[43m)\u001b[49m\n\u001b[0;32m     60\u001b[0m \u001b[38;5;28mprint\u001b[39m(\u001b[38;5;124m'\u001b[39m\u001b[38;5;124mbanana_weight\u001b[39m\u001b[38;5;124m'\u001b[39m,weight_of_banana_on_mars)\n",
      "Cell \u001b[1;32mIn[100], line 17\u001b[0m, in \u001b[0;36mmass_to_weight_2\u001b[1;34m(mass, planet_name)\u001b[0m\n\u001b[0;32m     14\u001b[0m         g \u001b[38;5;241m=\u001b[39m \u001b[38;5;241m24.79\u001b[39m\n\u001b[0;32m     15\u001b[0m \u001b[38;5;28;01melse\u001b[39;00m:\n\u001b[0;32m     16\u001b[0m         \u001b[38;5;66;03m# one way to handle unexpected input\u001b[39;00m\n\u001b[1;32m---> 17\u001b[0m         \u001b[38;5;28;01mraise\u001b[39;00m \u001b[38;5;167;01mValueError\u001b[39;00m(\u001b[38;5;124mf\u001b[39m\u001b[38;5;124m\"\u001b[39m\u001b[38;5;132;01m{\u001b[39;00mplanet_name\u001b[38;5;132;01m}\u001b[39;00m\u001b[38;5;124m is not supported yet\u001b[39m\u001b[38;5;124m\"\u001b[39m)\n\u001b[0;32m     18\u001b[0m \u001b[38;5;66;03m# multiply mass with g to give me the weight\u001b[39;00m\n\u001b[0;32m     19\u001b[0m weight \u001b[38;5;241m=\u001b[39m mass \u001b[38;5;241m*\u001b[39m g\n",
      "\u001b[1;31mValueError\u001b[0m: Moon is not supported yet"
     ]
    }
   ],
   "source": [
    "#your code goes here. Remember, F = mg!\n",
    "def mass_to_weight(mass, g): #put some arguments in the parantheses\n",
    "        # write some code\n",
    "        weight = mass * g\n",
    "        return weight\n",
    "\n",
    "def mass_to_weight_2(mass, planet_name):\n",
    "        # figure out the proper g on the planet_name\n",
    "        if planet_name == 'Earth':\n",
    "                g = 9.81\n",
    "        elif planet_name == 'Mars':\n",
    "                g = 3.71\n",
    "        elif planet_name == 'Jupiter':\n",
    "                g = 24.79\n",
    "        else:\n",
    "                # one way to handle unexpected input\n",
    "                raise ValueError(f\"{planet_name} is not supported yet\")\n",
    "        # multiply mass with g to give me the weight\n",
    "        weight = mass * g\n",
    "        return weight\n",
    "\n",
    "def mass_to_weight_3(mass, planet_name):\n",
    "        # figure out the proper g on the planet_name\n",
    "        # rewrite this section using a dictionary\n",
    "        g_dictionary = {\"Earth\": 9.81, \n",
    "                        'Mars': 3.71, \n",
    "                        'Jupiter': 24.79}\n",
    "        # the code above will be the same as\n",
    "        #g_dictionary = {}\n",
    "        #g_dictionary['Earth'] = 9.81\n",
    "        #g_dictionary['Mars'] = 3.71\n",
    "        #g_dictionary['Jupiter'] = 24.79\n",
    "        g = g_dictionary[planet_name]\n",
    "        # multiply mass with g to give me the weight\n",
    "        weight = mass * g\n",
    "        return weight\n",
    "\n",
    "# Try the functions in the code below. \n",
    "# Remember we are just defining the functions above (it is like building a hammer). To actually use the functions we need to call them in other pieces of code (like actually using the hammer to build a house)\n",
    "an_apple = 50\n",
    "gravitational_constant = 9.81\n",
    "apple_weight = mass_to_weight(an_apple, gravitational_constant)\n",
    "print('apple_weight',apple_weight)\n",
    "\n",
    "a_banana = 0.5\n",
    "planet_name = 'Mars'\n",
    "weight_of_banana_on_mars = mass_to_weight_2(a_banana, planet_name)\n",
    "print('banana_weight',weight_of_banana_on_mars)\n",
    "\n",
    "\n",
    "another_banana = 0.6\n",
    "planet_name = \"Jupiter\"\n",
    "weight_of_banana_on_mars = mass_to_weight_3(another_banana, planet_name)\n",
    "print('another_banana_weight',weight_of_banana_on_mars)\n",
    "\n",
    "# Testing the handling of unexpected input we implemented in mass_to_weight_2\n",
    "a_banana = 0.5\n",
    "planet_name = 'Moon'\n",
    "weight_of_banana_on_mars = mass_to_weight_2(a_banana, planet_name)\n",
    "print('banana_weight',weight_of_banana_on_mars)"
   ]
  },
  {
   "cell_type": "markdown",
   "id": "56b9c682",
   "metadata": {},
   "source": [
    "### Exercise 2\n",
    "\n",
    "Write a function that, given a list of numbers, returns odd numbers if the sum of the list of numbers is greater than 30, and even numbers if the sum of the list of numbers is less than 30.\n"
   ]
  },
  {
   "cell_type": "code",
   "execution_count": 103,
   "id": "4c2b0452",
   "metadata": {},
   "outputs": [
    {
     "name": "stdout",
     "output_type": "stream",
     "text": [
      "sum of the list  16\n",
      "returned values  [4]\n"
     ]
    }
   ],
   "source": [
    "# remember you can use the mod operator (%) to find the remainder after division , e.g. 5%2 = 1. \n",
    "def sum_of_list(a_list_of_numbers):\n",
    "    # initialize an accumulator\n",
    "    acc = 0\n",
    "    # loop through the list to add each value in the list to the accumulator\n",
    "    for value in a_list_of_numbers:\n",
    "        acc = acc + value\n",
    "    return acc\n",
    "\n",
    "\n",
    "def return_numbers(a_list_of_numbers):\n",
    "    # 1. Figure out whether the sum is greater than 30 or not\n",
    "    sum_values = sum_of_list(a_list_of_numbers)\n",
    "\n",
    "    # 2. return odd or even numbers depending on step 1\n",
    "    if sum_values > 30:\n",
    "        # initialize an empty list for returning later\n",
    "        return_list = []\n",
    "        # loop through the original list\n",
    "        for value in a_list_of_numbers:\n",
    "            # if the number is odd, append it to the list for return\n",
    "            if value % 2 == 1:\n",
    "                return_list.append(value)\n",
    "            \n",
    "        return return_list\n",
    "        \n",
    "    else:\n",
    "        # initialize an empty list for returning later\n",
    "        return_list = []\n",
    "        # loop through the original list\n",
    "        for value in a_list_of_numbers:\n",
    "            # if the number is even, append it to the list for return\n",
    "            if value % 2 == 0:\n",
    "                return_list.append(value)\n",
    "            \n",
    "        return return_list\n",
    "\n",
    "list_of_numbers = [1,4,100,11,111]\n",
    "print('sum of the list ', sum_of_list(list_of_numbers))\n",
    "print('returned values ', return_numbers(list_of_numbers))"
   ]
  },
  {
   "cell_type": "code",
   "execution_count": 104,
   "id": "effe3589",
   "metadata": {},
   "outputs": [
    {
     "name": "stdout",
     "output_type": "stream",
     "text": [
      "[4, 6]\n"
     ]
    }
   ],
   "source": [
    "# how to do this in a more succinct way? using list comprehension! \n",
    "def return_numbers(a_list_of_numbers):\n",
    "    # 1. Figure out whether the sum is greater than 30 or not\n",
    "    sum_values = sum(a_list_of_numbers)\n",
    "\n",
    "    # 2. return odd or even numbers depending on step 1\n",
    "    \n",
    "    if sum_values > 30:\n",
    "        # return odd numbers\n",
    "        return_list = [value for value in a_list_of_numbers if value % 2 == 1]\n",
    "    else:\n",
    "        # return odd numbers\n",
    "        return_list = [value for value in a_list_of_numbers if value % 2 == 0]\n",
    "        # return even numbers\n",
    "    return return_list\n",
    "a_list = [1,3,4,6,7]\n",
    "print(return_numbers(a_list))\n"
   ]
  },
  {
   "cell_type": "markdown",
   "id": "e69a5ae0",
   "metadata": {},
   "source": [
    "### Exercise 3\n",
    "\n",
    "Write a function that accepts a string, and returns the middle character of the string. If there is no 'middle' (because of an even number of characters), you can return either character to the left or right. "
   ]
  },
  {
   "cell_type": "code",
   "execution_count": 105,
   "id": "b21319f5",
   "metadata": {},
   "outputs": [
    {
     "name": "stdout",
     "output_type": "stream",
     "text": [
      "4\n",
      "r\n"
     ]
    }
   ],
   "source": [
    "# reminder: you can get the length of a string easily\n",
    "a_string = 'ornl'\n",
    "print(len(a_string))\n",
    "# reminder: you can access by index a character in the string\n",
    "print(a_string[1])"
   ]
  },
  {
   "cell_type": "code",
   "execution_count": 109,
   "id": "e2c77842",
   "metadata": {},
   "outputs": [
    {
     "name": "stdout",
     "output_type": "stream",
     "text": [
      "string BANANA\n",
      "middle char N\n",
      "string knoxville\n",
      "middle char v\n"
     ]
    }
   ],
   "source": [
    "a_string = 'ornl' # get r or n\n",
    "b_string = 'knoxville' # get v\n",
    "\n",
    "def return_middle_char(a_string):\n",
    "    # 1. figure out the length of the string\n",
    "    str_len = len(a_string)\n",
    "    # 2. figure out the index of the middle character\n",
    "    if str_len % 2 == 0:\n",
    "        char_index = str_len / 2 - 1 # if you want the left char\n",
    "        #char_index = str_len / 2 # if you want the right char\n",
    "        middle_character = a_string[int(char_index)]\n",
    "    if str_len % 2 == 1:\n",
    "        char_index = (str_len - 1) / 2\n",
    "        middle_character = a_string[int(char_index)]\n",
    "\n",
    "\n",
    "    # 3. return that character\n",
    "    return middle_character\n",
    "print('string', 'BANANA')\n",
    "print('middle char', return_middle_char('BANANA'))\n",
    "\n",
    "# a faster way\n",
    "def return_middle_char_faster(a_string):\n",
    "    # 1. figure out the length of the string\n",
    "    str_len = len(a_string)\n",
    "    # 2. figure out the index of the middle character\n",
    "    char_index = str_len // 2 # floor division - convince yourself that the math works out!\n",
    "    middle_character = a_string[int(char_index)]\n",
    "    return middle_character\n",
    "\n",
    "a_string = 'knoxville'\n",
    "mid_char_faster = return_middle_char_faster(a_string)\n",
    "\n",
    "print('string', a_string)\n",
    "print('middle char', mid_char_faster)\n",
    "\n",
    "\n",
    "\n",
    "\n"
   ]
  },
  {
   "cell_type": "code",
   "execution_count": 116,
   "id": "0425aa77",
   "metadata": {},
   "outputs": [
    {
     "name": "stdout",
     "output_type": "stream",
     "text": [
      "v\n",
      "Y\n",
      "a\n"
     ]
    }
   ],
   "source": [
    "# bonus exercise in class: can you do this without first knowing the length of the string?\n",
    "# I said using while loop but it is actually still easier with a for loop\n",
    "\n",
    "def middle_char_bonus(a_string):\n",
    "    fast = 0\n",
    "    slow = 0\n",
    "    for character in a_string:\n",
    "        # slow increments once every time fast becomes 2\n",
    "        fast += 1\n",
    "        if fast == 2:\n",
    "            fast = 0\n",
    "            slow += 1\n",
    "    # by the end of the loop 'slow' will be halfway through the string\n",
    "    return a_string[slow]\n",
    "        \n",
    "print(middle_char_bonus('knoxville'))\n",
    "print(middle_char_bonus('1234XY7890'))\n",
    "print(middle_char_bonus('a'))"
   ]
  },
  {
   "cell_type": "markdown",
   "id": "5dedd5b7",
   "metadata": {},
   "source": [
    "### Exercise 4 \n",
    "\n",
    "Write a function that takes as input, two lists of numbers. The lists should be the same size. The function should return the dot product of the two lists. Recall that the dot product of two vectors A = [A1,A2,A3] and B = [B1,B2,B3] is A1B1 + A2B2 + A3B3.\n"
   ]
  },
  {
   "cell_type": "code",
   "execution_count": 117,
   "id": "d7998531",
   "metadata": {},
   "outputs": [
    {
     "name": "stdout",
     "output_type": "stream",
     "text": [
      "44\n",
      "44\n",
      "44\n"
     ]
    }
   ],
   "source": [
    "def dot_product(list_a, list_b):\n",
    "    acc = 0\n",
    "    # do something to the accumulator\n",
    "    for ai, bi in zip(list_a, list_b):\n",
    "        acc = acc + ai*bi\n",
    "    return acc\n",
    "\n",
    "def dot_product_another_way(list_a, list_b):\n",
    "    acc = 0\n",
    "    len_list = len(list_a)\n",
    "    for i in range(len_list):\n",
    "        acc = acc + list_a[i] * list_b[i]\n",
    "        # or, an abbreviation: acc += list_a[i] * list_b[i]\n",
    "    return acc\n",
    "\n",
    "def dot_product_list_comprehension(list_a, list_b):\n",
    "    return sum([ai*bi for ai, bi in zip(list_a, list_b)])\n",
    "\n",
    "########\n",
    "list_a = [1,3,5]\n",
    "list_b = [2,4,6]\n",
    "dp = dot_product(list_a, list_b)\n",
    "dp_another_way = dot_product_another_way(list_a, list_b)\n",
    "dp_list_comprehension = dot_product_list_comprehension(list_a, list_b)\n",
    "print(dp)\n",
    "print(dp_another_way)\n",
    "print(dp_list_comprehension)"
   ]
  },
  {
   "cell_type": "markdown",
   "id": "d4769d15",
   "metadata": {},
   "source": [
    "# Lists and List Comprehension"
   ]
  },
  {
   "cell_type": "markdown",
   "id": "5b2ec15e",
   "metadata": {},
   "source": [
    "### Exercise 1\n",
    "\n",
    "Form a list, call it my_list, that is the square of the numbers 1 to 10. You can use the command range(1,11) to generate the initial numbers."
   ]
  },
  {
   "cell_type": "code",
   "execution_count": 118,
   "id": "b3230f54",
   "metadata": {},
   "outputs": [
    {
     "name": "stdout",
     "output_type": "stream",
     "text": [
      "[1, 4, 9, 16, 25, 36, 49, 64, 81, 100]\n"
     ]
    }
   ],
   "source": [
    "my_list = [val_i**2 for val_i in range(1,11)]\n",
    "print(my_list)"
   ]
  },
  {
   "cell_type": "markdown",
   "id": "f99b2de5",
   "metadata": {},
   "source": [
    "### Exercise 2\n",
    "\n",
    "Create a list of tuples ('name', age) from the list below, but only if the age is greater than or equal to 18."
   ]
  },
  {
   "cell_type": "code",
   "execution_count": 53,
   "id": "834a75b1",
   "metadata": {},
   "outputs": [
    {
     "name": "stdout",
     "output_type": "stream",
     "text": [
      "[('Mark', 20), ('Angela', 25), ('Rama', 65), ('Zijie', 21), ('Sita', 23)]\n"
     ]
    }
   ],
   "source": [
    "list_of_names_and_ages = [('Mark', 20), ('Angela', 25), ('Juan', 12), ('Rama', 65), \n",
    "                          ('Zijie', 21), ('Maria', 17), ('Shelcin', 16), ('Sita', 23)]\n",
    "\n",
    "\n",
    "adults = [item for item in list_of_names_and_ages if item[1] >= 18]\n",
    "print(adults)\n",
    "    "
   ]
  },
  {
   "cell_type": "markdown",
   "id": "a8442b69",
   "metadata": {},
   "source": [
    "### Exercise 3\n",
    "Create a list of files in a folder on your directory, that end in a particular extension. \n",
    "You can use the function os.listdir() to return a list of files in a given folder"
   ]
  },
  {
   "cell_type": "code",
   "execution_count": 119,
   "id": "667cad1b",
   "metadata": {},
   "outputs": [
    {
     "name": "stdout",
     "output_type": "stream",
     "text": [
      "['01_5_Python.ipynb', '02_numpy.ipynb', 'Consolidation Exercises.ipynb']\n"
     ]
    }
   ],
   "source": [
    "import os\n",
    "os.listdir() #Provide a folder in the arguments to this function to return a list of files in that folder\n",
    "\n",
    "#generate a list of files in that folder that have a specific extension\n",
    "#files_with_specific_extension = [#your code goes here]\n",
    "\n",
    "files_with_ipynb_extension = [f for f in os.listdir() if f[-6:] == '.ipynb']\n",
    "print(files_with_ipynb_extension)"
   ]
  },
  {
   "cell_type": "markdown",
   "id": "3933eec5",
   "metadata": {},
   "source": [
    "# Dictionaries\n",
    "\n",
    "### Exercise 1\n",
    "\n",
    "Create a dictionary which has as keys 'user proposal number', 'PI' and 'days_used', and corresponding values for these (they can be anything). See if you can provide multiple values for days_used, by using a list instead of a single number. After creating your dictionary, read out the entries one by one use the .keys() method (see below)"
   ]
  },
  {
   "cell_type": "code",
   "execution_count": 122,
   "id": "5feb4391",
   "metadata": {},
   "outputs": [],
   "source": [
    "my_dictionary ={'name':'Robert', 'user proposal number': '2024b_105'} #example dictionary\n",
    "my_dictionary.keys()\n",
    "\n",
    "#create your dictionary here\n",
    "my_dictionary = {'PI': 'Rama', 'user proposal number': '2024b_105', 'days_used':[5, 9, 2]}\n",
    "\n",
    "#your code goes here"
   ]
  },
  {
   "cell_type": "code",
   "execution_count": 123,
   "id": "b058ee02",
   "metadata": {},
   "outputs": [
    {
     "name": "stdout",
     "output_type": "stream",
     "text": [
      "PI : Rama\n",
      "user proposal number : 2024b_105\n",
      "days_used : [5, 9, 2]\n"
     ]
    }
   ],
   "source": [
    "#Read out the key, value pairs. \n",
    "#your code goes here\n",
    "for k in my_dictionary.keys():\n",
    "    print(k, ':', my_dictionary[k])"
   ]
  },
  {
   "cell_type": "markdown",
   "id": "94a72405",
   "metadata": {},
   "source": [
    "### Exercise 2\n",
    "\n",
    "Create a dictionary planet_diameters with planet names as keys and their diameters (in kilometers) as values. Write a function average_diameter that calculates and returns the average diameter. Note:\n",
    "\n",
    "Mercury: 4879\n",
    "\n",
    "Venus: 12104\n",
    "\n",
    "Earth: 12742\n",
    "\n",
    "Mars: 6779\n",
    "\n",
    "Jupiter: 139820\n",
    "\n",
    "Saturn: 116460\n",
    "\n",
    "Uranus: 50724\n",
    "\n",
    "Neptune: 49244"
   ]
  },
  {
   "cell_type": "code",
   "execution_count": 124,
   "id": "6cedcfe4",
   "metadata": {},
   "outputs": [
    {
     "name": "stdout",
     "output_type": "stream",
     "text": [
      "9126.0\n"
     ]
    }
   ],
   "source": [
    "#your code goes here\n",
    "planet_diameters = {'Mercury':4879,\n",
    "                     'Venus':12104,\n",
    "                     'Earth': 12742,\n",
    "                     'Mars':6779,\n",
    "                     #... add more if you would like! \n",
    "                     }\n",
    "\n",
    "print(sum([item[1] for item in planet_diameters.items()])/len(planet_diameters.items()))\n",
    "#if you have a dictionary dict, dict.items() is a handy way to loop through all the key-value pairs! try it out yourself!"
   ]
  },
  {
   "cell_type": "markdown",
   "id": "3bce1db5",
   "metadata": {},
   "source": [
    "# Exercise 3\n",
    "\n",
    "Write a list comprehension that generates a list of distances (in AU) from the Sun for the planets in the solar system, given their average distances in kilometers. This one is a little bit harder."
   ]
  },
  {
   "cell_type": "code",
   "execution_count": 73,
   "id": "a4ca40f0",
   "metadata": {},
   "outputs": [
    {
     "name": "stdout",
     "output_type": "stream",
     "text": [
      "('Mercury', 57900000)\n",
      "('Venus', 108200000)\n",
      "('Earth', 149600000)\n",
      "('Mars', 227900000)\n",
      "('Jupiter', 778300000)\n",
      "('Saturn', 1427000000)\n",
      "('Uranus', 2871000000)\n",
      "('Neptune', 4495000000)\n",
      "planet distances in AU:\n",
      "{'Mercury': 0.38703759437934304, 'Venus': 0.7232723266294458, 'Earth': 1.0000142334913595, 'Mars': 1.523417405164979, 'Jupiter': 5.202614157261531, 'Saturn': 9.538905823477073, 'Uranus': 19.191449628032707, 'Neptune': 30.047219114596665}\n"
     ]
    }
   ],
   "source": [
    "planet_distances_km = {\n",
    "    \"Mercury\": 57900000,\n",
    "    \"Venus\": 108200000,\n",
    "    \"Earth\": 149600000,\n",
    "    \"Mars\": 227900000,\n",
    "    \"Jupiter\": 778300000,\n",
    "    \"Saturn\": 1427000000,\n",
    "    \"Uranus\": 2871000000,\n",
    "    \"Neptune\": 4495000000\n",
    "}\n",
    "\n",
    "distance_au = 149597870.7 \n",
    "\n",
    "#generate a dictionary using list comprehension. To iterate through a dictionary, use the .items() method, i.e.:\n",
    "for item in planet_distances_km.items():\n",
    "    print(item)\n",
    "    \n",
    "#Note that List comprehension syntax works in dictionaries as well\n",
    "my_dictionary = {'name':age for (name,age) in {'Mark':10, 'Melissa':20, 'Kevin':30}.items()}\n",
    "\n",
    "#your code goes here\n",
    "planet_distances_au = {item[0]:item[1]/distance_au for item in planet_distances_km.items()}    \n",
    "print('planet distances in AU:')\n",
    "print(planet_distances_au)"
   ]
  },
  {
   "cell_type": "markdown",
   "id": "7bc08e15",
   "metadata": {},
   "source": [
    "# File I/O\n",
    "\n",
    "### Exercise 1\n",
    "\n",
    "Create a file from a list of numbers [1,10,150,160]. The file should look like this:\n",
    "\n",
    "1\n",
    "\n",
    "10\n",
    "\n",
    "150\n",
    "\n",
    "160\n"
   ]
  },
  {
   "cell_type": "code",
   "execution_count": 125,
   "id": "d4122840",
   "metadata": {},
   "outputs": [
    {
     "name": "stdout",
     "output_type": "stream",
     "text": [
      "1\n",
      "10\n",
      "150\n",
      "160\n"
     ]
    }
   ],
   "source": [
    "string_to_write = \"1\\n10\\n150\\n160\\n\" # \\n stands for the end-of-line (EOL) character\n",
    "with open('test_file.txt', 'w') as f: # the 'w' argument indicates you are opening this file for Writing\n",
    "    f.write(string_to_write)\n",
    "\n",
    "# a quick way to print a file to standard output, only works on windows\n",
    "!type test_file.txt \n",
    "\n",
    "# use this one if you are on Linux / Mac\n",
    "# !cat test_file.txt "
   ]
  },
  {
   "cell_type": "markdown",
   "id": "278e6562",
   "metadata": {},
   "source": [
    "### Exercise 2\n",
    "\n",
    "Read the file you created above, and return the values in a list"
   ]
  },
  {
   "cell_type": "code",
   "execution_count": 126,
   "id": "62e0315e",
   "metadata": {},
   "outputs": [
    {
     "name": "stdout",
     "output_type": "stream",
     "text": [
      "[1, 10, 150, 160]\n"
     ]
    }
   ],
   "source": [
    "list_of_values_in_file = []\n",
    "with open('test_file.txt', 'r') as f: # the 'r'' argument indicates you are opening this file for Reading\n",
    "    for line in f:\n",
    "        value = int(line) # notice how python intelligently ignores the '\\n' character at the end of each line when it recasts the line to an integer.\n",
    "        list_of_values_in_file.append(value)\n",
    "\n",
    "print(list_of_values_in_file)"
   ]
  },
  {
   "cell_type": "markdown",
   "id": "dd336da4",
   "metadata": {},
   "source": [
    "### Exercise 3\n",
    "\n",
    "Make a new file (you can do this outside of python) which has some text lines and then some numerical values\n",
    "Using any method you like, return a list of the numbered portions in a list, and the text portion in another list."
   ]
  },
  {
   "cell_type": "code",
   "execution_count": 127,
   "id": "9e485967",
   "metadata": {},
   "outputs": [
    {
     "name": "stdout",
     "output_type": "stream",
     "text": [
      "33\n",
      "Python\n",
      "ORNL\n",
      "234.5\n",
      "whatever\n",
      "5e-4\n",
      "\n",
      "33 is a number\n",
      "Python is not a number\n",
      "ORNL is not a number\n",
      "234.5 is a number\n",
      "whatever is not a number\n",
      "5e-4 is a number\n",
      "numbers in file [33.0, 234.5, 0.0005]\n",
      "text in file ['Python', 'ORNL', 'whatever']\n"
     ]
    }
   ],
   "source": [
    "#create a mixture of text lines and numerical lines\n",
    "a_bunch_of_stuff = \"33\\nPython\\nORNL\\n234.5\\nwhatever\\n5e-4\\n\"\n",
    "print(a_bunch_of_stuff)\n",
    "\n",
    "#write it to a file\n",
    "with open('text_and_values.txt','w') as f:\n",
    "    f.write(a_bunch_of_stuff)\n",
    "\n",
    "nums_in_file = []\n",
    "text_in_file = []    \n",
    "# Now read the file\n",
    "with open('text_and_values.txt','r') as f:\n",
    "    for line in f:\n",
    "        # there are many ways to do this,\n",
    "        # but a cool way would be to use the try-except clause.\n",
    "        # We try to let python convert every line into a numerical value (a float).\n",
    "        # if it succeeds, proceed to storing the value in the list of numbers\n",
    "        try:\n",
    "            value = float(line)\n",
    "            print(f\"{line[:-1]} is a number\")\n",
    "            nums_in_file.append(value)\n",
    "        # if it fails, python will raise a value error (a.k.a. an Exception). in this case, get rid of the `\\n` character at the end of the string and put the string in the text list\n",
    "        except ValueError:\n",
    "            print(f\"{line[:-1]} is not a number\") # line[-1] removes \\n at the end of each line\n",
    "            text_in_file.append(line[:-1])\n",
    "\n",
    "print('numbers in file', nums_in_file)\n",
    "print('text in file', text_in_file)\n"
   ]
  }
 ],
 "metadata": {
  "kernelspec": {
   "display_name": "Python 3 (ipykernel)",
   "language": "python",
   "name": "python3"
  },
  "language_info": {
   "codemirror_mode": {
    "name": "ipython",
    "version": 3
   },
   "file_extension": ".py",
   "mimetype": "text/x-python",
   "name": "python",
   "nbconvert_exporter": "python",
   "pygments_lexer": "ipython3",
   "version": "3.11.4"
  }
 },
 "nbformat": 4,
 "nbformat_minor": 5
}
